{
 "cells": [
  {
   "cell_type": "code",
   "execution_count": 1,
   "id": "ea483ee2",
   "metadata": {},
   "outputs": [],
   "source": [
    "import pandas as pd\n",
    "import numpy as np\n",
    "import matplotlib.pyplot as plt\n",
    "import torch"
   ]
  },
  {
   "cell_type": "markdown",
   "id": "21e3e460",
   "metadata": {},
   "source": [
    "# Load data"
   ]
  },
  {
   "cell_type": "code",
   "execution_count": 2,
   "id": "31c19a2d",
   "metadata": {},
   "outputs": [],
   "source": [
    "data = pd.read_csv(\"train.csv\")\n",
    "X = torch.from_numpy(data[[\"x1\", \"x2\"]].values).to(torch.float32)\n",
    "Y = torch.from_numpy(data[\"label\"].values).to(torch.float32)"
   ]
  },
  {
   "cell_type": "code",
   "execution_count": 3,
   "id": "2997615f",
   "metadata": {},
   "outputs": [
    {
     "data": {
      "text/plain": [
       "(torch.Size([20, 2]), torch.Size([20]))"
      ]
     },
     "execution_count": 3,
     "metadata": {},
     "output_type": "execute_result"
    }
   ],
   "source": [
    "X.shape, Y.shape"
   ]
  },
  {
   "cell_type": "markdown",
   "id": "9f85c31b",
   "metadata": {},
   "source": [
    "# Perceptron model"
   ]
  },
  {
   "cell_type": "code",
   "execution_count": 4,
   "id": "9badadf6",
   "metadata": {},
   "outputs": [],
   "source": [
    "class TorchPerceptron:\n",
    "    def __init__(self, num_features):\n",
    "        self.n = num_features\n",
    "        self.weights = torch.rand(self.n)\n",
    "        self.bias = torch.rand(1)\n",
    "    \n",
    "    def forward(self, x):\n",
    "        result = x.matmul(self.weights.T) + self.bias\n",
    "        y_cap = torch.where(result > 0, 1, 0)\n",
    "        return y_cap\n",
    "    \n",
    "    def update(self, x, y, lr):\n",
    "        y_cap = self.forward(x)\n",
    "        error = y - y_cap\n",
    "        self.bias += (lr*error)\n",
    "        self.weights += (lr * error * x)\n",
    "        return error"
   ]
  },
  {
   "cell_type": "markdown",
   "id": "bdadcd5f",
   "metadata": {},
   "source": [
    "# Training"
   ]
  },
  {
   "cell_type": "code",
   "execution_count": 5,
   "id": "6e220b95",
   "metadata": {},
   "outputs": [],
   "source": [
    "def train(model, all_x, all_y, epoch, learning_rate):\n",
    "    for i in range(epoch):\n",
    "        error_count = 0\n",
    "        for x,y in zip(all_x, all_y):\n",
    "            error_count += abs(model.update(x,y,learning_rate))\n",
    "        print(f\"Epoch : {i+1}, Error Count : {error_count}\")"
   ]
  },
  {
   "cell_type": "code",
   "execution_count": 6,
   "id": "ec87e271",
   "metadata": {},
   "outputs": [],
   "source": [
    "ppn = TorchPerceptron(num_features=2)"
   ]
  },
  {
   "cell_type": "code",
   "execution_count": 7,
   "id": "972decc7",
   "metadata": {},
   "outputs": [
    {
     "name": "stdout",
     "output_type": "stream",
     "text": [
      "Before Training - Weights : tensor([0.6750, 0.3444]), Bias : tensor([0.5635])\n",
      "\n",
      "Epoch : 1, Error Count : tensor([2.])\n",
      "Epoch : 2, Error Count : tensor([2.])\n",
      "Epoch : 3, Error Count : tensor([0.])\n",
      "Epoch : 4, Error Count : tensor([0.])\n",
      "Epoch : 5, Error Count : tensor([0.])\n",
      "\n",
      "After Training - Weights : tensor([0.4110, 0.1644]), Bias : tensor([-0.6365])\n"
     ]
    },
    {
     "name": "stderr",
     "output_type": "stream",
     "text": [
      "/var/folders/m5/xgbg_j9n4lj22vhdl_zqqlzm0000gn/T/ipykernel_53163/2989860873.py:8: UserWarning: The use of `x.T` on tensors of dimension other than 2 to reverse their shape is deprecated and it will throw an error in a future release. Consider `x.mT` to transpose batches of matrices or `x.permute(*torch.arange(x.ndim - 1, -1, -1))` to reverse the dimensions of a tensor. (Triggered internally at /Users/runner/work/_temp/anaconda/conda-bld/pytorch_1670918965162/work/aten/src/ATen/native/TensorShape.cpp:3542.)\n",
      "  result = x.matmul(self.weights.T) + self.bias\n"
     ]
    }
   ],
   "source": [
    "print(f\"Before Training - Weights : {ppn.weights}, Bias : {ppn.bias}\\n\")\n",
    "train(ppn, X, Y, epoch=5, learning_rate=0.3)\n",
    "print(f\"\\nAfter Training - Weights : {ppn.weights}, Bias : {ppn.bias}\")"
   ]
  },
  {
   "cell_type": "markdown",
   "id": "64cf1bef",
   "metadata": {},
   "source": [
    "# Data to predict"
   ]
  },
  {
   "cell_type": "code",
   "execution_count": 8,
   "id": "afdf021f",
   "metadata": {},
   "outputs": [
    {
     "data": {
      "text/plain": [
       "tensor([0, 0, 1])"
      ]
     },
     "execution_count": 8,
     "metadata": {},
     "output_type": "execute_result"
    }
   ],
   "source": [
    "X_data = torch.tensor([\n",
    "    [-1.0, -2.0],\n",
    "    [-3.0, 4.5],\n",
    "    [5.0, 6.0]\n",
    "])\n",
    "ppn.forward(X_data)"
   ]
  },
  {
   "cell_type": "markdown",
   "id": "7a05da15",
   "metadata": {},
   "source": [
    "# Accuracy"
   ]
  },
  {
   "cell_type": "code",
   "execution_count": 9,
   "id": "a6add486",
   "metadata": {},
   "outputs": [],
   "source": [
    "def measure_accuracy(model, X, Y):\n",
    "    correct_prediction = 0\n",
    "    for x, y in zip(X,Y):\n",
    "        y_cap = model.forward(x)\n",
    "        correct_prediction += (y == y_cap)\n",
    "    return correct_prediction/len(X)"
   ]
  },
  {
   "cell_type": "code",
   "execution_count": 10,
   "id": "132fdb2b",
   "metadata": {},
   "outputs": [
    {
     "name": "stdout",
     "output_type": "stream",
     "text": [
      "Accuracy : tensor([100.])%\n"
     ]
    }
   ],
   "source": [
    "print(f\"Accuracy : {measure_accuracy(ppn, X, Y) * 100}%\")"
   ]
  },
  {
   "cell_type": "markdown",
   "id": "b474ecec",
   "metadata": {},
   "source": [
    "# Visualisation of decision boundary"
   ]
  },
  {
   "cell_type": "code",
   "execution_count": 11,
   "id": "9cdd8724",
   "metadata": {},
   "outputs": [],
   "source": [
    "def visualize(model, X, Y):\n",
    "    plt.plot(X[Y==0, 0], X[Y==0, 1], marker=\"D\", markersize=8, linestyle='', label=\"Class-0\")\n",
    "    plt.plot(X[Y==1, 0], X[Y==1, 1], marker=\"^\", markersize=10, linestyle='', label=\"Class-1\")\n",
    "    \n",
    "    plt.legend(loc=2)\n",
    "    \n",
    "    plt.xlabel(\"Feature x1\")\n",
    "    plt.ylabel(\"Feature x2\")  \n",
    "    \n",
    "    plt.xlim(-5,5)\n",
    "    plt.ylim(-5,5)\n",
    "    \n",
    "    # Decision boundary\n",
    "    x1_min = -20\n",
    "    x1_max = 20\n",
    "    x2_min = -(x1_min * ppn.weights[0] + ppn.bias)/ppn.weights[1]\n",
    "    x2_max = -(x1_max * ppn.weights[0] + ppn.bias)/ppn.weights[1]\n",
    "    plt.plot([x1_min, x2_min], [x1_max, x2_max])"
   ]
  },
  {
   "cell_type": "code",
   "execution_count": 12,
   "id": "6bc8f7cc",
   "metadata": {},
   "outputs": [
    {
     "name": "stderr",
     "output_type": "stream",
     "text": [
      "/Users/muhammadwaseem/miniconda3/envs/torch/lib/python3.9/site-packages/numpy/core/shape_base.py:65: VisibleDeprecationWarning: Creating an ndarray from ragged nested sequences (which is a list-or-tuple of lists-or-tuples-or ndarrays with different lengths or shapes) is deprecated. If you meant to do this, you must specify 'dtype=object' when creating the ndarray.\n",
      "  ary = asanyarray(ary)\n"
     ]
    },
    {
     "data": {
      "image/png": "[encoded data removed]",
      "text/plain": [
       "<Figure size 640x480 with 1 Axes>"
      ]
     },
     "metadata": {},
     "output_type": "display_data"
    }
   ],
   "source": [
    "visualize(ppn, X, Y)"
   ]
  },
  {
   "cell_type": "code",
   "execution_count": null,
   "id": "0846daa7",
   "metadata": {},
   "outputs": [],
   "source": []
  }
 ],
 "metadata": {
  "kernelspec": {
   "display_name": "Python 3.9 (pytorch)",
   "language": "python",
   "name": "pytorch"
  },
  "language_info": {
   "codemirror_mode": {
    "name": "ipython",
    "version": 3
   },
   "file_extension": ".py",
   "mimetype": "text/x-python",
   "name": "python",
   "nbconvert_exporter": "python",
   "pygments_lexer": "ipython3",
   "version": "3.9.15"
  },
  "vscode": {
   "interpreter": {
    "hash": "c63909d350ce8d9b87a1de9763e74d04c16b161f418e7c161ffd7aa329df7504"
   }
  }
 },
 "nbformat": 4,
 "nbformat_minor": 5
}
