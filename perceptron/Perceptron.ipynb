{
 "cells": [
  {
   "cell_type": "code",
   "execution_count": 1,
   "id": "ea483ee2",
   "metadata": {},
   "outputs": [],
   "source": [
    "import pandas as pd\n",
    "import numpy as np\n",
    "import matplotlib.pyplot as plt"
   ]
  },
  {
   "cell_type": "markdown",
   "id": "21e3e460",
   "metadata": {},
   "source": [
    "# Load data"
   ]
  },
  {
   "cell_type": "code",
   "execution_count": 2,
   "id": "31c19a2d",
   "metadata": {},
   "outputs": [],
   "source": [
    "data = pd.read_csv(\"train.csv\")\n",
    "X = data[[\"x1\", \"x2\"]].values\n",
    "Y = data[\"label\"].values"
   ]
  },
  {
   "cell_type": "code",
   "execution_count": 3,
   "id": "2997615f",
   "metadata": {},
   "outputs": [
    {
     "data": {
      "text/plain": [
       "((20, 2), (20,))"
      ]
     },
     "execution_count": 3,
     "metadata": {},
     "output_type": "execute_result"
    }
   ],
   "source": [
    "X.shape, Y.shape"
   ]
  },
  {
   "cell_type": "markdown",
   "id": "9f85c31b",
   "metadata": {},
   "source": [
    "# Perceptron model"
   ]
  },
  {
   "cell_type": "code",
   "execution_count": 4,
   "id": "9badadf6",
   "metadata": {},
   "outputs": [],
   "source": [
    "class Perceptron:\n",
    "    def __init__(self, num_features):\n",
    "        self.n = num_features\n",
    "        self.weights = [np.random.rand() for i in range(self.n)]\n",
    "        self.bias = np.random.rand()\n",
    "    \n",
    "    def forward(self, x, y):\n",
    "        result = self.bias\n",
    "        for i in range(self.n):\n",
    "            result += (self.weights[i] * x[i])\n",
    "        if (result > 0):\n",
    "            y_cap = 1\n",
    "        else:\n",
    "            y_cap = 0\n",
    "        return y_cap\n",
    "    \n",
    "    def update(self, x, y, lr):\n",
    "        y_cap = self.forward(x,y)\n",
    "        error = y - y_cap\n",
    "        self.bias += (lr*error)\n",
    "        for i in range(self.n):\n",
    "            self.weights[i] += (lr * error * x[i])\n",
    "        return error"
   ]
  },
  {
   "cell_type": "markdown",
   "id": "bdadcd5f",
   "metadata": {},
   "source": [
    "# Training"
   ]
  },
  {
   "cell_type": "code",
   "execution_count": 5,
   "id": "6e220b95",
   "metadata": {},
   "outputs": [],
   "source": [
    "def train(model, all_x, all_y, epoch, learning_rate):\n",
    "    for i in range(epoch):\n",
    "        error_count = 0\n",
    "        for x,y in zip(all_x, all_y):\n",
    "            error_count += abs(model.update(x,y,learning_rate))\n",
    "        print(f\"Epoch : {i+1}, Error Count : {error_count}, Weights : {ppn.weights}, Bias : {ppn.bias}\")"
   ]
  },
  {
   "cell_type": "code",
   "execution_count": 6,
   "id": "972decc7",
   "metadata": {},
   "outputs": [],
   "source": [
    "ppn = Perceptron(num_features=2)"
   ]
  },
  {
   "cell_type": "code",
   "execution_count": 7,
   "id": "22b6034f",
   "metadata": {},
   "outputs": [
    {
     "name": "stdout",
     "output_type": "stream",
     "text": [
      "Epoch : 1, Error Count : 1, Weights : [0.1502452566398689, 0.19493153880195552], Bias : 0.1612938779128375\n",
      "Epoch : 2, Error Count : 3, Weights : [1.182245256639869, 0.29993153880195556], Bias : -0.1387061220871625\n",
      "Epoch : 3, Error Count : 2, Weights : [1.050245256639869, 0.20993153880195553], Bias : -0.7387061220871625\n",
      "Epoch : 4, Error Count : 0, Weights : [1.050245256639869, 0.20993153880195553], Bias : -0.7387061220871625\n",
      "Epoch : 5, Error Count : 0, Weights : [1.050245256639869, 0.20993153880195553], Bias : -0.7387061220871625\n"
     ]
    }
   ],
   "source": [
    "train(ppn, X, Y, epoch=5, learning_rate=0.3)"
   ]
  },
  {
   "cell_type": "markdown",
   "id": "7a05da15",
   "metadata": {},
   "source": [
    "# Accuracy"
   ]
  },
  {
   "cell_type": "code",
   "execution_count": 8,
   "id": "a6add486",
   "metadata": {},
   "outputs": [],
   "source": [
    "def measure_accuracy(model, X, Y):\n",
    "    correct_prediction = 0\n",
    "    for x, y in zip(X,Y):\n",
    "        y_cap = model.forward(x,y)\n",
    "        correct_prediction += (y == y_cap)\n",
    "    return correct_prediction/len(X)"
   ]
  },
  {
   "cell_type": "code",
   "execution_count": 9,
   "id": "132fdb2b",
   "metadata": {},
   "outputs": [
    {
     "name": "stdout",
     "output_type": "stream",
     "text": [
      "Accuracy : 100.0%\n"
     ]
    }
   ],
   "source": [
    "print(f\"Accuracy : {measure_accuracy(ppn, X, Y) * 100}%\")"
   ]
  },
  {
   "cell_type": "markdown",
   "id": "b474ecec",
   "metadata": {},
   "source": [
    "# Visualisation of decision boundary"
   ]
  },
  {
   "cell_type": "code",
   "execution_count": 10,
   "id": "9cdd8724",
   "metadata": {},
   "outputs": [],
   "source": [
    "def visualize(model, X, Y):\n",
    "    plt.plot(X[Y==0, 0], X[Y==0, 1], marker=\"D\", markersize=8, linestyle='', label=\"Class-0\")\n",
    "    plt.plot(X[Y==1, 0], X[Y==1, 1], marker=\"^\", markersize=10, linestyle='', label=\"Class-1\")\n",
    "    \n",
    "    plt.legend(loc=2)\n",
    "    \n",
    "    plt.xlabel(\"Feature x1\")\n",
    "    plt.ylabel(\"Feature x2\")  \n",
    "    \n",
    "    plt.xlim(-5,5)\n",
    "    plt.ylim(-5,5)\n",
    "    \n",
    "    # Decision boundary\n",
    "    x1_min = -20\n",
    "    x1_max = 20\n",
    "    x2_min = -(x1_min * ppn.weights[0] + ppn.bias)/ppn.weights[1]\n",
    "    x2_max = -(x1_max * ppn.weights[0] + ppn.bias)/ppn.weights[1]\n",
    "    plt.plot([x1_min, x2_min], [x1_max, x2_max])"
   ]
  },
  {
   "cell_type": "code",
   "execution_count": 11,
   "id": "6bc8f7cc",
   "metadata": {},
   "outputs": [
    {
     "data": {
      "image/png": "[encoded data removed]",
      "text/plain": [
       "<Figure size 640x480 with 1 Axes>"
      ]
     },
     "metadata": {},
     "output_type": "display_data"
    }
   ],
   "source": [
    "visualize(ppn, X, Y)"
   ]
  },
  {
   "cell_type": "code",
   "execution_count": null,
   "id": "e9dec0dd",
   "metadata": {},
   "outputs": [],
   "source": []
  }
 ],
 "metadata": {
  "kernelspec": {
   "display_name": "spyder",
   "language": "python",
   "name": "python3"
  },
  "language_info": {
   "codemirror_mode": {
    "name": "ipython",
    "version": 3
   },
   "file_extension": ".py",
   "mimetype": "text/x-python",
   "name": "python",
   "nbconvert_exporter": "python",
   "pygments_lexer": "ipython3",
   "version": "3.10.6 (main, Oct  7 2022, 15:17:36) [Clang 12.0.0 ]"
  },
  "vscode": {
   "interpreter": {
    "hash": "c63909d350ce8d9b87a1de9763e74d04c16b161f418e7c161ffd7aa329df7504"
   }
  }
 },
 "nbformat": 4,
 "nbformat_minor": 5
}
