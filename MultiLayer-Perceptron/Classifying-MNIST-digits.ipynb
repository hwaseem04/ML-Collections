{
 "cells": [
  {
   "cell_type": "code",
   "execution_count": 1,
   "id": "0351d84f",
   "metadata": {},
   "outputs": [
    {
     "name": "stderr",
     "output_type": "stream",
     "text": [
      "/Users/muhammadwaseem/miniconda3/envs/torch/lib/python3.9/site-packages/torchvision/io/image.py:13: UserWarning: Failed to load image Python extension: dlopen(/Users/muhammadwaseem/miniconda3/envs/torch/lib/python3.9/site-packages/torchvision/image.so, 0x0006): Symbol not found: __ZN2at4_ops19empty_memory_format4callEN3c108ArrayRefIxEENS2_8optionalINS2_10ScalarTypeEEENS5_INS2_6LayoutEEENS5_INS2_6DeviceEEENS5_IbEENS5_INS2_12MemoryFormatEEE\n",
      "  Referenced from: <CAE66874-17C2-35C9-9C4D-6BA9770AF17F> /Users/muhammadwaseem/miniconda3/envs/torch/lib/python3.9/site-packages/torchvision/image.so\n",
      "  Expected in:     <459875AA-DE2C-366B-9C44-90D4B3887080> /Users/muhammadwaseem/miniconda3/envs/torch/lib/python3.9/site-packages/torch/lib/libtorch_cpu.dylib\n",
      "  warn(f\"Failed to load image Python extension: {e}\")\n"
     ]
    }
   ],
   "source": [
    "import torch\n",
    "from torchvision.datasets import MNIST\n",
    "from torchvision.transforms import ToTensor\n",
    "from torch.utils.data import DataLoader\n",
    "from torch.optim import Adam\n",
    "import torch.nn as nn"
   ]
  },
  {
   "cell_type": "markdown",
   "id": "0c90b33c",
   "metadata": {},
   "source": [
    "## Data loading"
   ]
  },
  {
   "cell_type": "code",
   "execution_count": 2,
   "id": "5eafdc0f",
   "metadata": {},
   "outputs": [],
   "source": [
    "path = './'\n",
    "\n",
    "mnist_train_data = MNIST(root = path,\n",
    "                         train = True,\n",
    "                         transform = ToTensor(),\n",
    "                         download = True)\n",
    "mnist_test_data = MNIST(root = path,\n",
    "                        train = False,\n",
    "                        transform = ToTensor(),\n",
    "                        download = True)"
   ]
  },
  {
   "cell_type": "code",
   "execution_count": 3,
   "id": "7cad9aa1",
   "metadata": {},
   "outputs": [
    {
     "data": {
      "text/plain": [
       "(Dataset MNIST\n",
       "     Number of datapoints: 60000\n",
       "     Root location: ./\n",
       "     Split: Train\n",
       "     StandardTransform\n",
       " Transform: ToTensor(),\n",
       " Dataset MNIST\n",
       "     Number of datapoints: 10000\n",
       "     Root location: ./\n",
       "     Split: Test\n",
       "     StandardTransform\n",
       " Transform: ToTensor())"
      ]
     },
     "execution_count": 3,
     "metadata": {},
     "output_type": "execute_result"
    }
   ],
   "source": [
    "mnist_train_data, mnist_test_data"
   ]
  },
  {
   "cell_type": "code",
   "execution_count": 4,
   "id": "1f5048b0",
   "metadata": {},
   "outputs": [],
   "source": [
    "batch_size = 64\n",
    "data = DataLoader(mnist_train_data, batch_size=batch_size, shuffle=True)"
   ]
  },
  {
   "cell_type": "markdown",
   "id": "6735bb2b",
   "metadata": {},
   "source": [
    "## Model"
   ]
  },
  {
   "cell_type": "code",
   "execution_count": 5,
   "id": "c92becda",
   "metadata": {},
   "outputs": [
    {
     "data": {
      "text/plain": [
       "torch.Size([1, 28, 28])"
      ]
     },
     "execution_count": 5,
     "metadata": {},
     "output_type": "execute_result"
    }
   ],
   "source": [
    "# mnist_train_data[0] --> tuple containing input and label of 1st data\n",
    "# mnist_train_data[0][0] --> input image\n",
    "input_img = mnist_train_data[0][0].shape\n",
    "input_img"
   ]
  },
  {
   "cell_type": "code",
   "execution_count": 6,
   "id": "ca026f92",
   "metadata": {},
   "outputs": [
    {
     "data": {
      "text/plain": [
       "5"
      ]
     },
     "execution_count": 6,
     "metadata": {},
     "output_type": "execute_result"
    }
   ],
   "source": [
    "output_label = mnist_train_data[0][1]\n",
    "output_label"
   ]
  },
  {
   "cell_type": "code",
   "execution_count": 7,
   "id": "3e094218",
   "metadata": {},
   "outputs": [
    {
     "data": {
      "text/plain": [
       "[Flatten(start_dim=1, end_dim=-1),\n",
       " Linear(in_features=784, out_features=32, bias=True),\n",
       " ReLU(),\n",
       " Linear(in_features=32, out_features=16, bias=True),\n",
       " ReLU(),\n",
       " Linear(in_features=16, out_features=10, bias=True)]"
      ]
     },
     "execution_count": 7,
     "metadata": {},
     "output_type": "execute_result"
    }
   ],
   "source": [
    "hidden_units = [32, 16]\n",
    "input_s = input_img[1] * input_img[2]\n",
    "output_s = 10\n",
    "\n",
    "layers = [nn.Flatten()] # nn.Flatten(1) -> default param 1\n",
    "for hidden in hidden_units:\n",
    "    layers.append(nn.Linear(input_s, hidden))\n",
    "    layers.append(nn.ReLU())\n",
    "    input_s = hidden\n",
    "layers.append(nn.Linear(hidden_units[-1], output_s))\n",
    "#layers.append(nn.Softmax(dim=1))\n",
    "layers"
   ]
  },
  {
   "cell_type": "code",
   "execution_count": 8,
   "id": "23b4df7c",
   "metadata": {},
   "outputs": [
    {
     "data": {
      "text/plain": [
       "Sequential(\n",
       "  (0): Flatten(start_dim=1, end_dim=-1)\n",
       "  (1): Linear(in_features=784, out_features=32, bias=True)\n",
       "  (2): ReLU()\n",
       "  (3): Linear(in_features=32, out_features=16, bias=True)\n",
       "  (4): ReLU()\n",
       "  (5): Linear(in_features=16, out_features=10, bias=True)\n",
       ")"
      ]
     },
     "execution_count": 8,
     "metadata": {},
     "output_type": "execute_result"
    }
   ],
   "source": [
    "torch.manual_seed(1)\n",
    "Model = nn.Sequential(*layers)\n",
    "Model"
   ]
  },
  {
   "cell_type": "code",
   "execution_count": 9,
   "id": "df009c28",
   "metadata": {},
   "outputs": [],
   "source": [
    "loss_func = nn.CrossEntropyLoss()\n",
    "optimizer = Adam(Model.parameters(), lr=0.003)"
   ]
  },
  {
   "cell_type": "code",
   "execution_count": 10,
   "id": "2c82212b",
   "metadata": {},
   "outputs": [
    {
     "name": "stdout",
     "output_type": "stream",
     "text": [
      "Epoch: 1, Loss: 0.36034715363581976, Accuracy: 0.8948166666666667\n",
      "Epoch: 2, Loss: 0.18951323136488596, Accuracy: 0.9445166666666667\n",
      "Epoch: 3, Loss: 0.15185544942319393, Accuracy: 0.9546166666666667\n",
      "Epoch: 4, Loss: 0.12887366926968097, Accuracy: 0.96145\n",
      "Epoch: 5, Loss: 0.11551672877967357, Accuracy: 0.9646166666666667\n",
      "Epoch: 6, Loss: 0.10378535392483075, Accuracy: 0.9682666666666667\n",
      "Epoch: 7, Loss: 0.09393494497885306, Accuracy: 0.9707333333333333\n",
      "Epoch: 8, Loss: 0.08647850543782115, Accuracy: 0.9732333333333333\n",
      "Epoch: 9, Loss: 0.08094722925697764, Accuracy: 0.9741666666666666\n",
      "Epoch: 10, Loss: 0.07540133651991686, Accuracy: 0.9759\n",
      "Epoch: 11, Loss: 0.07160886716991663, Accuracy: 0.9771666666666666\n",
      "Epoch: 12, Loss: 0.06694994227302571, Accuracy: 0.9784833333333334\n",
      "Epoch: 13, Loss: 0.06498005988796551, Accuracy: 0.9792666666666666\n",
      "Epoch: 14, Loss: 0.06001460306271911, Accuracy: 0.9807666666666667\n",
      "Epoch: 15, Loss: 0.05887327492913852, Accuracy: 0.9814\n",
      "Epoch: 16, Loss: 0.05450668381763001, Accuracy: 0.9823666666666667\n",
      "Epoch: 17, Loss: 0.05583752253744751, Accuracy: 0.98175\n",
      "Epoch: 18, Loss: 0.04907002206593752, Accuracy: 0.9834333333333334\n",
      "Epoch: 19, Loss: 0.05065606303960085, Accuracy: 0.9833\n",
      "Epoch: 20, Loss: 0.04755764638576657, Accuracy: 0.9845666666666667\n"
     ]
    }
   ],
   "source": [
    "epoch = 20\n",
    "Training_loss = [0] * epoch\n",
    "Training_accuracy = [0] * epoch\n",
    "Test_loss = [0] * epoch\n",
    "Test_accuracy = [0] * epoch\n",
    "for i in range(epoch):\n",
    "    for x_batch, y_batch in data:\n",
    "        #print(x_batch.shape, y_batch.shape)\n",
    "        pred = Model(x_batch)\n",
    "        #print(pred.shape, y_batch.shape)\n",
    "        loss = loss_func(pred, y_batch)\n",
    "        loss.backward()\n",
    "        optimizer.step()\n",
    "        optimizer.zero_grad()\n",
    "        Training_loss[i] += loss.item() * x_batch.size(0)\n",
    "        softmax = torch.softmax(pred, axis=1)\n",
    "        correct_cnt = (torch.argmax(softmax, axis=1) == y_batch).sum()\n",
    "        Training_accuracy[i] += correct_cnt.item()\n",
    "    Training_loss[i] /= len(data.dataset)\n",
    "    #print(Training_accuracy[i])\n",
    "    Training_accuracy[i] /= len(data.dataset)\n",
    "    \n",
    "    print(f\"Epoch: {i+1}, Loss: {Training_loss[i]}, Accuracy: {Training_accuracy[i]}\")"
   ]
  },
  {
   "cell_type": "markdown",
   "id": "3aeb4156",
   "metadata": {},
   "source": [
    "Possible Error : RuntimeError: result type Float can't be cast to the desired output type Long <br>\n",
    "Rectified by : correct_cnt.item() in line 15 of above cell"
   ]
  },
  {
   "cell_type": "markdown",
   "id": "3520202e",
   "metadata": {},
   "source": [
    "## Test data accuracy"
   ]
  },
  {
   "cell_type": "code",
   "execution_count": 11,
   "id": "cac6df37",
   "metadata": {},
   "outputs": [
    {
     "data": {
      "text/plain": [
       "torch.Size([10000, 10])"
      ]
     },
     "execution_count": 11,
     "metadata": {},
     "output_type": "execute_result"
    }
   ],
   "source": [
    "prediction = Model(mnist_test_data.data.to(torch.float32))\n",
    "prediction.shape"
   ]
  },
  {
   "cell_type": "code",
   "execution_count": 12,
   "id": "33ef680c",
   "metadata": {},
   "outputs": [
    {
     "data": {
      "text/plain": [
       "torch.Size([10000])"
      ]
     },
     "execution_count": 12,
     "metadata": {},
     "output_type": "execute_result"
    }
   ],
   "source": [
    "mnist_test_data.targets.to(torch.float32).shape"
   ]
  },
  {
   "cell_type": "code",
   "execution_count": 13,
   "id": "1dd34643",
   "metadata": {},
   "outputs": [
    {
     "name": "stdout",
     "output_type": "stream",
     "text": [
      "Test data accuracy: 96.30%\n"
     ]
    }
   ],
   "source": [
    "correct_cnt = (\n",
    "    torch.argmax(prediction, dim=1) == mnist_test_data.targets.to(torch.float32)\n",
    "    ).sum()\n",
    "\n",
    "print(f\"Test data accuracy: {correct_cnt/len(mnist_test_data.targets) * 100:.2f}%\")"
   ]
  },
  {
   "cell_type": "code",
   "execution_count": null,
   "id": "2729690a",
   "metadata": {},
   "outputs": [],
   "source": []
  }
 ],
 "metadata": {
  "kernelspec": {
   "display_name": "Python 3.9 (pytorch)",
   "language": "python",
   "name": "pytorch"
  },
  "language_info": {
   "codemirror_mode": {
    "name": "ipython",
    "version": 3
   },
   "file_extension": ".py",
   "mimetype": "text/x-python",
   "name": "python",
   "nbconvert_exporter": "python",
   "pygments_lexer": "ipython3",
   "version": "3.9.15"
  }
 },
 "nbformat": 4,
 "nbformat_minor": 5
}
