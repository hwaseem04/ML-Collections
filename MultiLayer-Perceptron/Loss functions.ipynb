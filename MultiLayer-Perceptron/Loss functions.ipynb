{
 "cells": [
  {
   "cell_type": "code",
   "execution_count": 1,
   "id": "e0002d67",
   "metadata": {},
   "outputs": [],
   "source": [
    "import torch \n",
    "import torch.nn as nn"
   ]
  },
  {
   "cell_type": "markdown",
   "id": "bce89df3",
   "metadata": {},
   "source": [
    "#### Note that\n",
    "- computing Cross-entropy loss is preferred with logits value compared to softmax output for numerical stability. So avoid having Softmax layer in the model\n",
    "- both BCELoss & CrossEntropyLoss func has option of accepting probabilities or logits along with integer labels.\n",
    "    - nn.BCEWithLogitsLoss() : Logits\n",
    "    - or nn.BCELoss() : Probabilities\n",
    "    - nn.CrossEntropyLoss() : Logits\n",
    "    - nn.NLLLoss() : **Log probabilities**"
   ]
  },
  {
   "cell_type": "markdown",
   "id": "60305d57",
   "metadata": {},
   "source": [
    "## Binary class classification"
   ]
  },
  {
   "cell_type": "code",
   "execution_count": 8,
   "id": "4342f31c",
   "metadata": {},
   "outputs": [
    {
     "name": "stdout",
     "output_type": "stream",
     "text": [
      "Error With logits: 1.4632824659347534\n",
      "Error With Probabiltiy: 1.4632827043533325\n"
     ]
    }
   ],
   "source": [
    "target = torch.tensor([0.0]) # Requires float not Long\n",
    "logits = torch.tensor([1.2])\n",
    "prob = torch.sigmoid(logits) # remember nn.Sigmoid() is class\n",
    "\n",
    "loss_logits_func = nn.BCEWithLogitsLoss() # When logits is used for error calc\n",
    "loss_prob_func = nn.BCELoss() # When probability is used for error calc\n",
    "\n",
    "print(f\"Error With logits: {loss_logits_func(logits, target)}\")\n",
    "print(f\"Error With Probabiltiy: {loss_prob_func(prob, target)}\")"
   ]
  },
  {
   "cell_type": "markdown",
   "id": "347beac8",
   "metadata": {},
   "source": [
    "### If you notice carefully above, there is precision error. To avoid such numerical instability, the loss is calculated based on logits than probability"
   ]
  },
  {
   "cell_type": "markdown",
   "id": "c6891b0e",
   "metadata": {},
   "source": [
    "## Multiclass classification"
   ]
  },
  {
   "cell_type": "code",
   "execution_count": 17,
   "id": "6e5447d2",
   "metadata": {},
   "outputs": [
    {
     "name": "stdout",
     "output_type": "stream",
     "text": [
      "Error With logits: 2.186870813369751\n",
      "Error With Probabiltiy: 2.186870813369751\n"
     ]
    }
   ],
   "source": [
    "target = torch.tensor([1]) # requires Long, not float\n",
    "logits = torch.tensor([[2.0,0.1,0.3]])\n",
    "\n",
    "prob = torch.softmax(logits, dim=1)\n",
    "# log_prob = torch.log(prob)\n",
    "\n",
    "loss_logits_fn = nn.CrossEntropyLoss() # logits required used\n",
    "loss_logprob_fn = nn.NLLLoss() # Probabilty required\n",
    "\n",
    "print(f\"Error With logits: {loss_logits_fn(logits, target)}\")\n",
    "print(f\"Error With Probabiltiy: {loss_logprob_fn(torch.log(prob), target)}\")"
   ]
  },
  {
   "cell_type": "code",
   "execution_count": null,
   "id": "8ad506cd",
   "metadata": {},
   "outputs": [],
   "source": []
  }
 ],
 "metadata": {
  "kernelspec": {
   "display_name": "Python 3.9 (pytorch)",
   "language": "python",
   "name": "pytorch"
  },
  "language_info": {
   "codemirror_mode": {
    "name": "ipython",
    "version": 3
   },
   "file_extension": ".py",
   "mimetype": "text/x-python",
   "name": "python",
   "nbconvert_exporter": "python",
   "pygments_lexer": "ipython3",
   "version": "3.9.15"
  }
 },
 "nbformat": 4,
 "nbformat_minor": 5
}
