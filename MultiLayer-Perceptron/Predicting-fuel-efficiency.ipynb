{
 "cells": [
  {
   "cell_type": "code",
   "execution_count": 1,
   "id": "f5adbeb7",
   "metadata": {},
   "outputs": [],
   "source": [
    "import torch\n",
    "import pandas as pd\n",
    "import numpy as np\n",
    "from sklearn.model_selection import train_test_split\n",
    "import matplotlib.pyplot as plt"
   ]
  },
  {
   "cell_type": "markdown",
   "id": "d7ed2d2c",
   "metadata": {},
   "source": [
    "## Load data from web"
   ]
  },
  {
   "cell_type": "code",
   "execution_count": 2,
   "id": "38079d4b",
   "metadata": {},
   "outputs": [],
   "source": [
    "url = 'http://archive.ics.uci.edu/ml/machine-learning-databases/auto-mpg/auto-mpg.data'\n",
    "col = ['MPG', 'Cylinders', 'Displacement', 'Horsepower', 'Weight', 'Acceleration', 'Model Year', 'Origin']\n",
    "df = pd.read_csv(url, names=col, na_values=\"?\",sep=\" \", comment=\"\\t\", skipinitialspace=True) "
   ]
  },
  {
   "cell_type": "code",
   "execution_count": 3,
   "id": "aefb8ba0",
   "metadata": {},
   "outputs": [
    {
     "data": {
      "text/html": [
       "<div>\n",
       "<style scoped>\n",
       "    .dataframe tbody tr th:only-of-type {\n",
       "        vertical-align: middle;\n",
       "    }\n",
       "\n",
       "    .dataframe tbody tr th {\n",
       "        vertical-align: top;\n",
       "    }\n",
       "\n",
       "    .dataframe thead th {\n",
       "        text-align: right;\n",
       "    }\n",
       "</style>\n",
       "<table border=\"1\" class=\"dataframe\">\n",
       "  <thead>\n",
       "    <tr style=\"text-align: right;\">\n",
       "      <th></th>\n",
       "      <th>MPG</th>\n",
       "      <th>Cylinders</th>\n",
       "      <th>Displacement</th>\n",
       "      <th>Horsepower</th>\n",
       "      <th>Weight</th>\n",
       "      <th>Acceleration</th>\n",
       "      <th>Model Year</th>\n",
       "      <th>Origin</th>\n",
       "    </tr>\n",
       "  </thead>\n",
       "  <tbody>\n",
       "    <tr>\n",
       "      <th>0</th>\n",
       "      <td>18.0</td>\n",
       "      <td>8</td>\n",
       "      <td>307.0</td>\n",
       "      <td>130.0</td>\n",
       "      <td>3504.0</td>\n",
       "      <td>12.0</td>\n",
       "      <td>70</td>\n",
       "      <td>1</td>\n",
       "    </tr>\n",
       "    <tr>\n",
       "      <th>1</th>\n",
       "      <td>15.0</td>\n",
       "      <td>8</td>\n",
       "      <td>350.0</td>\n",
       "      <td>165.0</td>\n",
       "      <td>3693.0</td>\n",
       "      <td>11.5</td>\n",
       "      <td>70</td>\n",
       "      <td>1</td>\n",
       "    </tr>\n",
       "    <tr>\n",
       "      <th>2</th>\n",
       "      <td>18.0</td>\n",
       "      <td>8</td>\n",
       "      <td>318.0</td>\n",
       "      <td>150.0</td>\n",
       "      <td>3436.0</td>\n",
       "      <td>11.0</td>\n",
       "      <td>70</td>\n",
       "      <td>1</td>\n",
       "    </tr>\n",
       "    <tr>\n",
       "      <th>3</th>\n",
       "      <td>16.0</td>\n",
       "      <td>8</td>\n",
       "      <td>304.0</td>\n",
       "      <td>150.0</td>\n",
       "      <td>3433.0</td>\n",
       "      <td>12.0</td>\n",
       "      <td>70</td>\n",
       "      <td>1</td>\n",
       "    </tr>\n",
       "    <tr>\n",
       "      <th>4</th>\n",
       "      <td>17.0</td>\n",
       "      <td>8</td>\n",
       "      <td>302.0</td>\n",
       "      <td>140.0</td>\n",
       "      <td>3449.0</td>\n",
       "      <td>10.5</td>\n",
       "      <td>70</td>\n",
       "      <td>1</td>\n",
       "    </tr>\n",
       "  </tbody>\n",
       "</table>\n",
       "</div>"
      ],
      "text/plain": [
       "    MPG  Cylinders  Displacement  Horsepower  Weight  Acceleration  \\\n",
       "0  18.0          8         307.0       130.0  3504.0          12.0   \n",
       "1  15.0          8         350.0       165.0  3693.0          11.5   \n",
       "2  18.0          8         318.0       150.0  3436.0          11.0   \n",
       "3  16.0          8         304.0       150.0  3433.0          12.0   \n",
       "4  17.0          8         302.0       140.0  3449.0          10.5   \n",
       "\n",
       "   Model Year  Origin  \n",
       "0          70       1  \n",
       "1          70       1  \n",
       "2          70       1  \n",
       "3          70       1  \n",
       "4          70       1  "
      ]
     },
     "execution_count": 3,
     "metadata": {},
     "output_type": "execute_result"
    }
   ],
   "source": [
    "df.head()"
   ]
  },
  {
   "cell_type": "markdown",
   "id": "ed55cf4f",
   "metadata": {},
   "source": [
    "## Preprocessing & Feature engineering\n",
    "\n",
    "### Making Model year into buckets to simplify training process\n",
    "- **range    : label**\n",
    "- -inf to 73 : 0\n",
    "- 73 to 76 : 1\n",
    "- 76 to 79 : 2\n",
    "- 79 to inf: 3\n",
    "\n",
    "    - If **right=True**, then **year 79** belongs to **label 3** else label 2\n",
    "    - i.e (-inf,73), [73,76), [76,79), [79,inf)\n",
    "    - else (-inf,73], (73,76], (76,79], (79,inf)"
   ]
  },
  {
   "cell_type": "code",
   "execution_count": 4,
   "id": "aa5eaa94",
   "metadata": {},
   "outputs": [],
   "source": [
    "v = torch.from_numpy(df['Model Year'].values)\n",
    "boundary = torch.tensor([73, 76, 79])\n",
    "df['Model Year Bucket'] = torch.bucketize(v,\n",
    "                                         boundary,\n",
    "                                         right=True)\n",
    "df.drop(columns=['Model Year'], inplace=True)"
   ]
  },
  {
   "cell_type": "markdown",
   "id": "0a4c942f",
   "metadata": {},
   "source": [
    "### Categorize Origin\n",
    "- Either use **one-hot** - can lead to curse of dimensionality if more # of classes. Other variants exist like one hot hash encoding.\n",
    "- or embedding layer(if u have # of large class)"
   ]
  },
  {
   "cell_type": "code",
   "execution_count": 5,
   "id": "db1e28ff",
   "metadata": {},
   "outputs": [],
   "source": [
    "df = pd.get_dummies(df,columns=['Origin'])"
   ]
  },
  {
   "cell_type": "code",
   "execution_count": 6,
   "id": "ecfdf02d",
   "metadata": {},
   "outputs": [
    {
     "data": {
      "text/html": [
       "<div>\n",
       "<style scoped>\n",
       "    .dataframe tbody tr th:only-of-type {\n",
       "        vertical-align: middle;\n",
       "    }\n",
       "\n",
       "    .dataframe tbody tr th {\n",
       "        vertical-align: top;\n",
       "    }\n",
       "\n",
       "    .dataframe thead th {\n",
       "        text-align: right;\n",
       "    }\n",
       "</style>\n",
       "<table border=\"1\" class=\"dataframe\">\n",
       "  <thead>\n",
       "    <tr style=\"text-align: right;\">\n",
       "      <th></th>\n",
       "      <th>MPG</th>\n",
       "      <th>Cylinders</th>\n",
       "      <th>Displacement</th>\n",
       "      <th>Horsepower</th>\n",
       "      <th>Weight</th>\n",
       "      <th>Acceleration</th>\n",
       "      <th>Model Year Bucket</th>\n",
       "      <th>Origin_1</th>\n",
       "      <th>Origin_2</th>\n",
       "      <th>Origin_3</th>\n",
       "    </tr>\n",
       "  </thead>\n",
       "  <tbody>\n",
       "    <tr>\n",
       "      <th>0</th>\n",
       "      <td>18.0</td>\n",
       "      <td>8</td>\n",
       "      <td>307.0</td>\n",
       "      <td>130.0</td>\n",
       "      <td>3504.0</td>\n",
       "      <td>12.0</td>\n",
       "      <td>0</td>\n",
       "      <td>1</td>\n",
       "      <td>0</td>\n",
       "      <td>0</td>\n",
       "    </tr>\n",
       "    <tr>\n",
       "      <th>1</th>\n",
       "      <td>15.0</td>\n",
       "      <td>8</td>\n",
       "      <td>350.0</td>\n",
       "      <td>165.0</td>\n",
       "      <td>3693.0</td>\n",
       "      <td>11.5</td>\n",
       "      <td>0</td>\n",
       "      <td>1</td>\n",
       "      <td>0</td>\n",
       "      <td>0</td>\n",
       "    </tr>\n",
       "    <tr>\n",
       "      <th>2</th>\n",
       "      <td>18.0</td>\n",
       "      <td>8</td>\n",
       "      <td>318.0</td>\n",
       "      <td>150.0</td>\n",
       "      <td>3436.0</td>\n",
       "      <td>11.0</td>\n",
       "      <td>0</td>\n",
       "      <td>1</td>\n",
       "      <td>0</td>\n",
       "      <td>0</td>\n",
       "    </tr>\n",
       "    <tr>\n",
       "      <th>3</th>\n",
       "      <td>16.0</td>\n",
       "      <td>8</td>\n",
       "      <td>304.0</td>\n",
       "      <td>150.0</td>\n",
       "      <td>3433.0</td>\n",
       "      <td>12.0</td>\n",
       "      <td>0</td>\n",
       "      <td>1</td>\n",
       "      <td>0</td>\n",
       "      <td>0</td>\n",
       "    </tr>\n",
       "    <tr>\n",
       "      <th>4</th>\n",
       "      <td>17.0</td>\n",
       "      <td>8</td>\n",
       "      <td>302.0</td>\n",
       "      <td>140.0</td>\n",
       "      <td>3449.0</td>\n",
       "      <td>10.5</td>\n",
       "      <td>0</td>\n",
       "      <td>1</td>\n",
       "      <td>0</td>\n",
       "      <td>0</td>\n",
       "    </tr>\n",
       "  </tbody>\n",
       "</table>\n",
       "</div>"
      ],
      "text/plain": [
       "    MPG  Cylinders  Displacement  Horsepower  Weight  Acceleration  \\\n",
       "0  18.0          8         307.0       130.0  3504.0          12.0   \n",
       "1  15.0          8         350.0       165.0  3693.0          11.5   \n",
       "2  18.0          8         318.0       150.0  3436.0          11.0   \n",
       "3  16.0          8         304.0       150.0  3433.0          12.0   \n",
       "4  17.0          8         302.0       140.0  3449.0          10.5   \n",
       "\n",
       "   Model Year Bucket  Origin_1  Origin_2  Origin_3  \n",
       "0                  0         1         0         0  \n",
       "1                  0         1         0         0  \n",
       "2                  0         1         0         0  \n",
       "3                  0         1         0         0  \n",
       "4                  0         1         0         0  "
      ]
     },
     "execution_count": 6,
     "metadata": {},
     "output_type": "execute_result"
    }
   ],
   "source": [
    "df.head()"
   ]
  },
  {
   "cell_type": "markdown",
   "id": "6e783ebb",
   "metadata": {},
   "source": [
    "### Filling missing values in Horsepower\n",
    "- Omitted as there is only 6 such values, but there exists a linear relation as below"
   ]
  },
  {
   "cell_type": "code",
   "execution_count": 7,
   "id": "be488ee5",
   "metadata": {},
   "outputs": [
    {
     "data": {
      "text/plain": [
       "Text(0, 0.5, '$Horse Power$')"
      ]
     },
     "execution_count": 7,
     "metadata": {},
     "output_type": "execute_result"
    },
    {
     "data": {
      "image/png": "[encoded data removed]",
      "text/plain": [
       "<Figure size 640x480 with 1 Axes>"
      ]
     },
     "metadata": {},
     "output_type": "display_data"
    }
   ],
   "source": [
    "plt.plot(df['Displacement'], df['Horsepower'], marker=\".\", linestyle=\"\")\n",
    "plt.xlabel(\"$Displacement$\")\n",
    "plt.ylabel(\"$Horse Power$\")"
   ]
  },
  {
   "cell_type": "code",
   "execution_count": 8,
   "id": "ed5b11f0",
   "metadata": {},
   "outputs": [
    {
     "name": "stdout",
     "output_type": "stream",
     "text": [
      "<class 'pandas.core.frame.DataFrame'>\n",
      "Int64Index: 392 entries, 0 to 397\n",
      "Data columns (total 10 columns):\n",
      " #   Column             Non-Null Count  Dtype  \n",
      "---  ------             --------------  -----  \n",
      " 0   MPG                392 non-null    float64\n",
      " 1   Cylinders          392 non-null    int64  \n",
      " 2   Displacement       392 non-null    float64\n",
      " 3   Horsepower         392 non-null    float64\n",
      " 4   Weight             392 non-null    float64\n",
      " 5   Acceleration       392 non-null    float64\n",
      " 6   Model Year Bucket  392 non-null    int64  \n",
      " 7   Origin_1           392 non-null    uint8  \n",
      " 8   Origin_2           392 non-null    uint8  \n",
      " 9   Origin_3           392 non-null    uint8  \n",
      "dtypes: float64(5), int64(2), uint8(3)\n",
      "memory usage: 25.6 KB\n"
     ]
    }
   ],
   "source": [
    "df.dropna(inplace=True)\n",
    "df.info()"
   ]
  },
  {
   "cell_type": "markdown",
   "id": "ab40632d",
   "metadata": {},
   "source": [
    "### Convert all to float32 datatype for PyTorch training"
   ]
  },
  {
   "cell_type": "code",
   "execution_count": 9,
   "id": "f2546d0a",
   "metadata": {},
   "outputs": [],
   "source": [
    "df = df[df.columns].astype('float32')"
   ]
  },
  {
   "cell_type": "markdown",
   "id": "4c64884d",
   "metadata": {},
   "source": [
    "### Standardise the non categorical values"
   ]
  },
  {
   "cell_type": "code",
   "execution_count": 10,
   "id": "bddb4c4c",
   "metadata": {},
   "outputs": [],
   "source": [
    "continuous_col = ['Cylinders', 'Displacement', 'Horsepower', 'Weight',\n",
    "       'Acceleration']\n",
    "for col in continuous_col:\n",
    "    df[col] = (df[col] - df[col].mean())/df[col].std()"
   ]
  },
  {
   "cell_type": "code",
   "execution_count": 11,
   "id": "05ce0e42",
   "metadata": {},
   "outputs": [
    {
     "data": {
      "text/html": [
       "<div>\n",
       "<style scoped>\n",
       "    .dataframe tbody tr th:only-of-type {\n",
       "        vertical-align: middle;\n",
       "    }\n",
       "\n",
       "    .dataframe tbody tr th {\n",
       "        vertical-align: top;\n",
       "    }\n",
       "\n",
       "    .dataframe thead th {\n",
       "        text-align: right;\n",
       "    }\n",
       "</style>\n",
       "<table border=\"1\" class=\"dataframe\">\n",
       "  <thead>\n",
       "    <tr style=\"text-align: right;\">\n",
       "      <th></th>\n",
       "      <th>MPG</th>\n",
       "      <th>Cylinders</th>\n",
       "      <th>Displacement</th>\n",
       "      <th>Horsepower</th>\n",
       "      <th>Weight</th>\n",
       "      <th>Acceleration</th>\n",
       "      <th>Model Year Bucket</th>\n",
       "      <th>Origin_1</th>\n",
       "      <th>Origin_2</th>\n",
       "      <th>Origin_3</th>\n",
       "    </tr>\n",
       "  </thead>\n",
       "  <tbody>\n",
       "    <tr>\n",
       "      <th>393</th>\n",
       "      <td>27.0</td>\n",
       "      <td>-0.862911</td>\n",
       "      <td>-0.519972</td>\n",
       "      <td>-0.479835</td>\n",
       "      <td>-0.220843</td>\n",
       "      <td>0.021267</td>\n",
       "      <td>3.0</td>\n",
       "      <td>1.0</td>\n",
       "      <td>0.0</td>\n",
       "      <td>0.0</td>\n",
       "    </tr>\n",
       "    <tr>\n",
       "      <th>394</th>\n",
       "      <td>44.0</td>\n",
       "      <td>-0.862911</td>\n",
       "      <td>-0.930889</td>\n",
       "      <td>-1.363154</td>\n",
       "      <td>-0.997859</td>\n",
       "      <td>3.283479</td>\n",
       "      <td>3.0</td>\n",
       "      <td>0.0</td>\n",
       "      <td>1.0</td>\n",
       "      <td>0.0</td>\n",
       "    </tr>\n",
       "    <tr>\n",
       "      <th>395</th>\n",
       "      <td>32.0</td>\n",
       "      <td>-0.862911</td>\n",
       "      <td>-0.567753</td>\n",
       "      <td>-0.531795</td>\n",
       "      <td>-0.803605</td>\n",
       "      <td>-1.428605</td>\n",
       "      <td>3.0</td>\n",
       "      <td>1.0</td>\n",
       "      <td>0.0</td>\n",
       "      <td>0.0</td>\n",
       "    </tr>\n",
       "    <tr>\n",
       "      <th>396</th>\n",
       "      <td>28.0</td>\n",
       "      <td>-0.862911</td>\n",
       "      <td>-0.711097</td>\n",
       "      <td>-0.661695</td>\n",
       "      <td>-0.415097</td>\n",
       "      <td>1.108671</td>\n",
       "      <td>3.0</td>\n",
       "      <td>1.0</td>\n",
       "      <td>0.0</td>\n",
       "      <td>0.0</td>\n",
       "    </tr>\n",
       "    <tr>\n",
       "      <th>397</th>\n",
       "      <td>31.0</td>\n",
       "      <td>-0.862911</td>\n",
       "      <td>-0.720653</td>\n",
       "      <td>-0.583755</td>\n",
       "      <td>-0.303253</td>\n",
       "      <td>1.398645</td>\n",
       "      <td>3.0</td>\n",
       "      <td>1.0</td>\n",
       "      <td>0.0</td>\n",
       "      <td>0.0</td>\n",
       "    </tr>\n",
       "  </tbody>\n",
       "</table>\n",
       "</div>"
      ],
      "text/plain": [
       "      MPG  Cylinders  Displacement  Horsepower    Weight  Acceleration  \\\n",
       "393  27.0  -0.862911     -0.519972   -0.479835 -0.220843      0.021267   \n",
       "394  44.0  -0.862911     -0.930889   -1.363154 -0.997859      3.283479   \n",
       "395  32.0  -0.862911     -0.567753   -0.531795 -0.803605     -1.428605   \n",
       "396  28.0  -0.862911     -0.711097   -0.661695 -0.415097      1.108671   \n",
       "397  31.0  -0.862911     -0.720653   -0.583755 -0.303253      1.398645   \n",
       "\n",
       "     Model Year Bucket  Origin_1  Origin_2  Origin_3  \n",
       "393                3.0       1.0       0.0       0.0  \n",
       "394                3.0       0.0       1.0       0.0  \n",
       "395                3.0       1.0       0.0       0.0  \n",
       "396                3.0       1.0       0.0       0.0  \n",
       "397                3.0       1.0       0.0       0.0  "
      ]
     },
     "execution_count": 11,
     "metadata": {},
     "output_type": "execute_result"
    }
   ],
   "source": [
    "df.tail()"
   ]
  },
  {
   "cell_type": "markdown",
   "id": "076e94bf",
   "metadata": {},
   "source": [
    "### Split into train and test"
   ]
  },
  {
   "cell_type": "code",
   "execution_count": 12,
   "id": "722e7b13",
   "metadata": {},
   "outputs": [],
   "source": [
    "X = df[['Cylinders', 'Displacement', 'Horsepower', 'Weight',\n",
    "       'Acceleration', 'Model Year Bucket', 'Origin_1',\n",
    "       'Origin_2', 'Origin_3']].values\n",
    "Y = df['MPG'].values\n",
    "X = torch.from_numpy(X)\n",
    "Y = torch.from_numpy(Y).reshape(-1,1)"
   ]
  },
  {
   "cell_type": "code",
   "execution_count": 13,
   "id": "d57089e8",
   "metadata": {},
   "outputs": [],
   "source": [
    "X_Train, X_Test, Y_Train, Y_Test = train_test_split(X, Y, train_size=0.8, random_state=42)"
   ]
  },
  {
   "cell_type": "code",
   "execution_count": 14,
   "id": "b5f1d359",
   "metadata": {},
   "outputs": [
    {
     "data": {
      "text/plain": [
       "(torch.Size([313, 9]), torch.Size([313, 1]))"
      ]
     },
     "execution_count": 14,
     "metadata": {},
     "output_type": "execute_result"
    }
   ],
   "source": [
    "X_Train.shape, Y_Train.shape"
   ]
  },
  {
   "cell_type": "code",
   "execution_count": 15,
   "id": "99227fa6",
   "metadata": {},
   "outputs": [
    {
     "data": {
      "text/plain": [
       "(torch.Size([79, 9]), torch.Size([79, 1]))"
      ]
     },
     "execution_count": 15,
     "metadata": {},
     "output_type": "execute_result"
    }
   ],
   "source": [
    "X_Test.shape, Y_Test.shape"
   ]
  },
  {
   "cell_type": "markdown",
   "id": "6fc29908",
   "metadata": {},
   "source": [
    "## Regression Model"
   ]
  },
  {
   "cell_type": "code",
   "execution_count": 16,
   "id": "fe98fc07",
   "metadata": {},
   "outputs": [],
   "source": [
    "import torch.nn as nn\n",
    "from torch.utils.data import DataLoader, TensorDataset\n",
    "from torch.optim import SGD"
   ]
  },
  {
   "cell_type": "code",
   "execution_count": 17,
   "id": "7790107a",
   "metadata": {},
   "outputs": [],
   "source": [
    "dataset = TensorDataset(X_Train, Y_Train)\n",
    "batch_size = 8\n",
    "data = DataLoader(dataset, batch_size=batch_size, shuffle=True)"
   ]
  },
  {
   "cell_type": "code",
   "execution_count": 18,
   "id": "7364fee8",
   "metadata": {},
   "outputs": [
    {
     "data": {
      "text/plain": [
       "Sequential(\n",
       "  (0): Linear(in_features=9, out_features=8, bias=True)\n",
       "  (1): ReLU()\n",
       "  (2): Linear(in_features=8, out_features=4, bias=True)\n",
       "  (3): ReLU()\n",
       "  (4): Linear(in_features=4, out_features=1, bias=True)\n",
       ")"
      ]
     },
     "execution_count": 18,
     "metadata": {},
     "output_type": "execute_result"
    }
   ],
   "source": [
    "torch.manual_seed(2)\n",
    "input_s = 9\n",
    "hidden_1 = 8\n",
    "hidden_2 = 4\n",
    "output_s = 1\n",
    "Model = nn.Sequential(nn.Linear(input_s, hidden_1),\n",
    "        nn.ReLU(),\n",
    "        nn.Linear(hidden_1, hidden_2),\n",
    "        nn.ReLU(),\n",
    "        nn.Linear(hidden_2, output_s),\n",
    "                     )\n",
    "Model"
   ]
  },
  {
   "cell_type": "code",
   "execution_count": 19,
   "id": "0985e6d3",
   "metadata": {},
   "outputs": [],
   "source": [
    "loss_func = nn.MSELoss()\n",
    "optimizer = SGD(Model.parameters(), lr=0.001) # lr=0.003, lr=0.0001"
   ]
  },
  {
   "cell_type": "code",
   "execution_count": 20,
   "id": "41a8a2ce",
   "metadata": {},
   "outputs": [
    {
     "name": "stdout",
     "output_type": "stream",
     "text": [
      "Epoch: 1, Loss: 287.2379726934166\n",
      "Epoch: 11, Loss: 8.336414302119051\n",
      "Epoch: 21, Loss: 9.000263880140865\n",
      "Epoch: 31, Loss: 8.66435294800673\n",
      "Epoch: 41, Loss: 8.670916167311013\n",
      "Epoch: 51, Loss: 10.030156167551352\n",
      "Epoch: 61, Loss: 9.055049020356645\n",
      "Epoch: 71, Loss: 8.263432280752605\n",
      "Epoch: 81, Loss: 7.950947166631778\n",
      "Epoch: 91, Loss: 8.233058774814058\n",
      "Epoch: 101, Loss: 8.09829210778014\n",
      "Epoch: 111, Loss: 7.647874534987032\n",
      "Epoch: 121, Loss: 7.791377405769909\n",
      "Epoch: 131, Loss: 7.825551158227859\n",
      "Epoch: 141, Loss: 7.486572241249938\n",
      "Epoch: 151, Loss: 7.872297088023477\n",
      "Epoch: 161, Loss: 7.691183672926297\n",
      "Epoch: 171, Loss: 7.7905245742525535\n",
      "Epoch: 181, Loss: 7.462051854346888\n",
      "Epoch: 191, Loss: 7.165451412002881\n"
     ]
    }
   ],
   "source": [
    "epoch = 200\n",
    "Train_loss = [0] * epoch\n",
    "\n",
    "Test_loss = [0] * epoch\n",
    "\n",
    "for i in range(epoch):\n",
    "    for x_batch, y_batch in data:\n",
    "        #print(x_batch.shape, y_batch.shape)\n",
    "        pred = Model(x_batch)\n",
    "        #print(pred.shape, y_batch.shape)\n",
    "        loss = loss_func(pred, y_batch)\n",
    "        loss.backward()\n",
    "        optimizer.step()\n",
    "        optimizer.zero_grad()\n",
    "        Train_loss[i] += loss.item() * x_batch.size(0)\n",
    "    Train_loss[i] /= len(data.dataset)\n",
    "    with torch.no_grad():\n",
    "        prediction = Model(X_Test)\n",
    "        loss2 = loss_func(prediction, Y_Test)\n",
    "        Test_loss[i] = loss2\n",
    "    if (i % 10 == 0):\n",
    "        print(f\"Epoch: {i+1}, Loss: {Train_loss[i]}\")"
   ]
  },
  {
   "cell_type": "code",
   "execution_count": 21,
   "id": "0e2a0e3f",
   "metadata": {},
   "outputs": [
    {
     "data": {
      "image/png": "[encoded data removed]",
      "text/plain": [
       "<Figure size 640x480 with 1 Axes>"
      ]
     },
     "metadata": {},
     "output_type": "display_data"
    }
   ],
   "source": [
    "plt.subplot(1,2,1)\n",
    "plt.plot(np.arange(epoch), Train_loss)\n",
    "plt.plot(np.arange(epoch), Test_loss)\n",
    "plt.xlabel(\"$Epoch$\", size=12)\n",
    "plt.title(\"Loss\")\n",
    "plt.legend([\"Train\", \"Test\"])\n",
    "plt.tight_layout()"
   ]
  },
  {
   "cell_type": "markdown",
   "id": "ef2db00c",
   "metadata": {},
   "source": [
    "## Observation query\n",
    "- When the `learning rate` is `0.0001`, both train and validation loss is exactly same curve.\n",
    "- When the `learning rate` is `0.003`, there is a **sudden peek** for validation loss in between, even though train loss is not that high."
   ]
  },
  {
   "cell_type": "code",
   "execution_count": 22,
   "id": "82938b3a",
   "metadata": {},
   "outputs": [
    {
     "name": "stdout",
     "output_type": "stream",
     "text": [
      "Test MSE: 8.5235\n",
      "Test MAE: 2.0247\n"
     ]
    }
   ],
   "source": [
    "# Final\n",
    "prediction = Model(X_Test) \n",
    "loss = loss_func(prediction, Y_Test)\n",
    "print(f'Test MSE: {loss.item():.4f}')\n",
    "print(f'Test MAE: {nn.L1Loss()(prediction, Y_Test).item():.4f}') # Mean absolute error"
   ]
  },
  {
   "cell_type": "code",
   "execution_count": null,
   "id": "1c73215f",
   "metadata": {},
   "outputs": [],
   "source": []
  }
 ],
 "metadata": {
  "kernelspec": {
   "display_name": "Python 3.9 (pytorch)",
   "language": "python",
   "name": "pytorch"
  },
  "language_info": {
   "codemirror_mode": {
    "name": "ipython",
    "version": 3
   },
   "file_extension": ".py",
   "mimetype": "text/x-python",
   "name": "python",
   "nbconvert_exporter": "python",
   "pygments_lexer": "ipython3",
   "version": "3.9.15"
  }
 },
 "nbformat": 4,
 "nbformat_minor": 5
}
