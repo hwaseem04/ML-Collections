{
 "cells": [
  {
   "cell_type": "code",
   "execution_count": 1,
   "id": "52cc65e9",
   "metadata": {},
   "outputs": [],
   "source": [
    "from sklearn.datasets import load_iris\n",
    "from sklearn.model_selection import train_test_split\n",
    "import torch\n",
    "import torch.nn as nn\n",
    "from torch.utils.data import DataLoader, TensorDataset\n",
    "from torch.optim import Adam\n",
    "import matplotlib.pyplot as plt"
   ]
  },
  {
   "cell_type": "markdown",
   "id": "1b02151a",
   "metadata": {},
   "source": [
    "## Load Data"
   ]
  },
  {
   "cell_type": "code",
   "execution_count": 2,
   "id": "8398f593",
   "metadata": {},
   "outputs": [],
   "source": [
    "iris = load_iris()"
   ]
  },
  {
   "cell_type": "code",
   "execution_count": 3,
   "id": "1835db6f",
   "metadata": {},
   "outputs": [
    {
     "data": {
      "text/plain": [
       "(150, 4)"
      ]
     },
     "execution_count": 3,
     "metadata": {},
     "output_type": "execute_result"
    }
   ],
   "source": [
    "Image_input = iris['data']\n",
    "Image_input.shape"
   ]
  },
  {
   "cell_type": "code",
   "execution_count": 4,
   "id": "ed0ec08f",
   "metadata": {},
   "outputs": [
    {
     "data": {
      "text/plain": [
       "(150,)"
      ]
     },
     "execution_count": 4,
     "metadata": {},
     "output_type": "execute_result"
    }
   ],
   "source": [
    "Image_label = iris['target']\n",
    "Image_label.shape"
   ]
  },
  {
   "cell_type": "markdown",
   "id": "55d2a888",
   "metadata": {},
   "source": [
    "## Split into train and test data"
   ]
  },
  {
   "cell_type": "code",
   "execution_count": 5,
   "id": "ee8947ff",
   "metadata": {},
   "outputs": [],
   "source": [
    "Train_X, Test_X, Train_Y, Test_Y = train_test_split(Image_input,\n",
    "                                                    Image_label,\n",
    "                                                    test_size=1/3,\n",
    "                                                    random_state=1)"
   ]
  },
  {
   "cell_type": "code",
   "execution_count": 6,
   "id": "9056c40d",
   "metadata": {},
   "outputs": [
    {
     "data": {
      "text/plain": [
       "((100, 4), (50, 4))"
      ]
     },
     "execution_count": 6,
     "metadata": {},
     "output_type": "execute_result"
    }
   ],
   "source": [
    "Train_X.shape, Test_X.shape"
   ]
  },
  {
   "cell_type": "markdown",
   "id": "3e89a0dd",
   "metadata": {},
   "source": [
    "## Standardise the data"
   ]
  },
  {
   "cell_type": "code",
   "execution_count": 7,
   "id": "bfa6c731",
   "metadata": {},
   "outputs": [],
   "source": [
    "Train_X_Norm = torch.from_numpy((Train_X - Train_X.mean())/Train_X.std()).to(torch.float32)\n",
    "Train_Y = torch.from_numpy(Train_Y)"
   ]
  },
  {
   "cell_type": "code",
   "execution_count": 8,
   "id": "e0f7b36c",
   "metadata": {},
   "outputs": [
    {
     "data": {
      "text/plain": [
       "(torch.Size([100, 4]), torch.Size([100]))"
      ]
     },
     "execution_count": 8,
     "metadata": {},
     "output_type": "execute_result"
    }
   ],
   "source": [
    "Train_X_Norm.shape, Train_Y.shape"
   ]
  },
  {
   "cell_type": "markdown",
   "id": "11c602b4",
   "metadata": {},
   "source": [
    "## Create Dataloader iterator"
   ]
  },
  {
   "cell_type": "code",
   "execution_count": 9,
   "id": "7e75d426",
   "metadata": {},
   "outputs": [],
   "source": [
    "iris_data = TensorDataset(Train_X_Norm, Train_Y)\n",
    "batch_size = 2\n",
    "#torch.manual_seed(1)\n",
    "data = DataLoader(iris_data, batch_size=batch_size, shuffle=True)"
   ]
  },
  {
   "cell_type": "markdown",
   "id": "ce73cb55",
   "metadata": {},
   "source": [
    "## Multilayer Perceptron Model"
   ]
  },
  {
   "cell_type": "code",
   "execution_count": 10,
   "id": "ecfc4c40",
   "metadata": {},
   "outputs": [],
   "source": [
    "class Model(nn.Module):\n",
    "    def __init__(self, input_size, hidden_size, output_size):\n",
    "        super().__init__()\n",
    "        self.layer1 = nn.Linear(input_size, hidden_size)\n",
    "        self.layer2 = nn.Linear(hidden_size, output_size)\n",
    "    def forward(self, x):\n",
    "        x = self.layer1(x)\n",
    "        x = nn.Sigmoid()(x)\n",
    "        x = self.layer2(x)\n",
    "        x = nn.Softmax(dim=1)(x) # Dim=1 to apply softmax across column\n",
    "        return x"
   ]
  },
  {
   "cell_type": "code",
   "execution_count": 11,
   "id": "53783649",
   "metadata": {},
   "outputs": [
    {
     "data": {
      "text/plain": [
       "Model(\n",
       "  (layer1): Linear(in_features=4, out_features=16, bias=True)\n",
       "  (layer2): Linear(in_features=16, out_features=3, bias=True)\n",
       ")"
      ]
     },
     "execution_count": 11,
     "metadata": {},
     "output_type": "execute_result"
    }
   ],
   "source": [
    "input_size = Train_X_Norm.shape[1]\n",
    "hidden_size = 16\n",
    "output_size = 3\n",
    "mlp = Model(input_size, hidden_size, output_size)\n",
    "mlp"
   ]
  },
  {
   "cell_type": "markdown",
   "id": "ece18d9b",
   "metadata": {},
   "source": [
    "## Defining Loss function, Optimizer"
   ]
  },
  {
   "cell_type": "code",
   "execution_count": 12,
   "id": "749d9b46",
   "metadata": {},
   "outputs": [],
   "source": [
    "loss_func = nn.CrossEntropyLoss()\n",
    "learning_rate = 0.001\n",
    "optimizer = Adam(mlp.parameters(), lr=learning_rate)"
   ]
  },
  {
   "cell_type": "markdown",
   "id": "1d266af9",
   "metadata": {},
   "source": [
    "## Training"
   ]
  },
  {
   "cell_type": "code",
   "execution_count": 13,
   "id": "ee086743",
   "metadata": {},
   "outputs": [
    {
     "name": "stdout",
     "output_type": "stream",
     "text": [
      "Epoch: 1, Error: 1.0750455856323242\n",
      "Epoch: 11, Error: 0.7825888395309448\n",
      "Epoch: 21, Error: 0.6911250948905945\n",
      "Epoch: 31, Error: 0.8895916938781738\n",
      "Epoch: 41, Error: 0.7234869003295898\n",
      "Epoch: 51, Error: 0.6045358180999756\n",
      "Epoch: 61, Error: 0.6305551528930664\n",
      "Epoch: 71, Error: 0.6113092303276062\n",
      "Epoch: 81, Error: 0.620545506477356\n",
      "Epoch: 91, Error: 0.5991140604019165\n"
     ]
    }
   ],
   "source": [
    "epoch = 100\n",
    "training_loss = [0] * epoch\n",
    "training_accuracy = [0] * epoch\n",
    "\n",
    "for i in range(epoch):\n",
    "    for x_batch, y_batch in data:\n",
    "        #print(y_batch.size(0))\n",
    "        pred = mlp(x_batch)\n",
    "        loss = loss_func(pred, y_batch) # pred is array of probabilities which is required by crossEntropy func\n",
    "        loss.backward()\n",
    "        optimizer.step() # Update parameters based on optimizer\n",
    "        optimizer.zero_grad() # Reset gradients to 0 after every update\n",
    "        training_loss[i] += loss.item() * y_batch.size(0)\n",
    "        correct_count = (torch.argmax(pred, dim=1) == y_batch).to(torch.float32)\n",
    "        training_accuracy[i] += correct_count.mean() * y_batch.size(0)\n",
    "    training_loss[i] /= len(data.dataset)\n",
    "    training_accuracy[i] /= len(data.dataset)\n",
    "    if (i % 10 == 0):\n",
    "        print(f\"Epoch: {i+1}, Error: {loss}\")\n",
    "        \n",
    "        "
   ]
  },
  {
   "cell_type": "markdown",
   "id": "8eeda097",
   "metadata": {},
   "source": [
    "### Reason for multiplying with 2 in accuracy and loss calculation in line 13 and 15\n",
    "\n",
    "#### Nutshell - It is done to calculate average error properly for entire train data. CrossEntropyFunction(CE) gives mean error.\n",
    "\n",
    "* Lets say you have total train data set size of 4\n",
    "* Let batch size = 2\n",
    "\n",
    "Inside for loop\n",
    "* So for each iteration of for loop, you get 2 training data to be evaluated. (Batch1 = 2, Batch2 = 2, total 4 train data set)\n",
    "* Hence loss1 = $2x_1$, where $x_1$ is loss for batch 1.\n",
    "* Similarly, loss2 = $2x_2$, where $x_2$ is loss for batch 2.\n",
    "\n",
    "Outside for loop\n",
    "* Now average is calculated $(2x_1 + 2x_2)\\div4$, which will simpify to $(x_1 + x_2)\\div2$\n",
    "* Hence proper average is calculated"
   ]
  },
  {
   "cell_type": "markdown",
   "id": "b6e1a573",
   "metadata": {},
   "source": [
    "# Visualize Error and accuracy over epoch"
   ]
  },
  {
   "cell_type": "code",
   "execution_count": 14,
   "id": "64a7f83f",
   "metadata": {},
   "outputs": [
    {
     "data": {
      "text/plain": [
       "Text(0.5, 1.0, 'Training Accuracy')"
      ]
     },
     "execution_count": 14,
     "metadata": {},
     "output_type": "execute_result"
    },
    {
     "data": {
      "image/png": "[encoded data removed]",
      "text/plain": [
       "<Figure size 1200x500 with 2 Axes>"
      ]
     },
     "metadata": {},
     "output_type": "display_data"
    }
   ],
   "source": [
    "plt.figure(figsize=(12,5))\n",
    "\n",
    "plt.subplot(1,2,1)\n",
    "plt.plot(torch.arange(epoch),training_loss, lw=3)\n",
    "plt.xlabel(\"Epoch\", size=18)\n",
    "plt.title(\"Training Loss\", size=18)\n",
    "\n",
    "plt.subplot(1,2,2)\n",
    "plt.plot(torch.arange(epoch),training_accuracy, lw=3)\n",
    "plt.xlabel(\"Epoch\", size=18)\n",
    "plt.title(\"Training Accuracy\", size=18)"
   ]
  },
  {
   "cell_type": "markdown",
   "id": "44bda246",
   "metadata": {},
   "source": [
    "## Evaluating model"
   ]
  },
  {
   "cell_type": "code",
   "execution_count": 15,
   "id": "b8515163",
   "metadata": {},
   "outputs": [
    {
     "data": {
      "text/plain": [
       "torch.Size([50, 4])"
      ]
     },
     "execution_count": 15,
     "metadata": {},
     "output_type": "execute_result"
    }
   ],
   "source": [
    "Test_X_Norm = torch.from_numpy(((Test_X - Test_X.mean())/Test_X.std())).to(torch.float32)\n",
    "Test_X_Norm.shape"
   ]
  },
  {
   "cell_type": "code",
   "execution_count": 16,
   "id": "8442a3ba",
   "metadata": {},
   "outputs": [],
   "source": [
    "Test_Y = torch.from_numpy(Test_Y)"
   ]
  },
  {
   "cell_type": "code",
   "execution_count": 17,
   "id": "2bdf44a1",
   "metadata": {},
   "outputs": [
    {
     "name": "stdout",
     "output_type": "stream",
     "text": [
      "Accuracy: 98.00%\n"
     ]
    }
   ],
   "source": [
    "prediction = mlp(Test_X_Norm)\n",
    "correct = (torch.argmax(prediction, dim=1) == Test_Y).to(torch.float32)\n",
    "accuracy = correct.mean().item()\n",
    "print(f\"Accuracy: {accuracy*100:.2f}%\")"
   ]
  },
  {
   "cell_type": "markdown",
   "id": "12e271aa",
   "metadata": {},
   "source": [
    "## Saving and reloading"
   ]
  },
  {
   "cell_type": "code",
   "execution_count": 18,
   "id": "7b6d855a",
   "metadata": {},
   "outputs": [],
   "source": [
    "path = \"iris_model.pt\"\n",
    "torch.save(mlp, path)"
   ]
  },
  {
   "cell_type": "code",
   "execution_count": 19,
   "id": "26155d90",
   "metadata": {},
   "outputs": [
    {
     "data": {
      "text/plain": [
       "Model(\n",
       "  (layer1): Linear(in_features=4, out_features=16, bias=True)\n",
       "  (layer2): Linear(in_features=16, out_features=3, bias=True)\n",
       ")"
      ]
     },
     "execution_count": 19,
     "metadata": {},
     "output_type": "execute_result"
    }
   ],
   "source": [
    "test_model = torch.load(path)\n",
    "test_model.eval()"
   ]
  },
  {
   "cell_type": "code",
   "execution_count": 20,
   "id": "59d9e648",
   "metadata": {},
   "outputs": [
    {
     "name": "stdout",
     "output_type": "stream",
     "text": [
      "layer1.weight Parameter containing:\n",
      "tensor([[ 1.0732, -1.2491,  2.7906,  0.6140],\n",
      "        [-1.0326,  2.0607, -2.6750, -0.2634],\n",
      "        [-0.0197,  0.1841, -2.2632, -1.5088],\n",
      "        [ 0.2446, -1.3918,  2.1566,  0.9878],\n",
      "        [ 0.3711,  0.1218,  1.3540,  0.3480],\n",
      "        [ 0.0532,  1.2750,  0.3981,  0.0514],\n",
      "        [ 0.9247, -1.1286,  2.1491,  0.3506],\n",
      "        [ 0.1452,  0.0698, -2.0426, -0.7417],\n",
      "        [-0.2780,  0.1760, -2.0116, -1.7401],\n",
      "        [ 0.4581,  0.2396,  1.5070,  1.0682],\n",
      "        [-0.3714,  1.7968, -2.0103, -0.5754],\n",
      "        [-0.6650,  0.8885, -2.1305, -0.9599],\n",
      "        [ 0.1586,  0.0768, -2.0351, -1.2917],\n",
      "        [ 0.1119, -0.0533, -2.1682, -0.8691],\n",
      "        [ 0.1059,  1.0868,  0.8601,  0.4806],\n",
      "        [ 0.7465, -1.3169,  2.5337,  0.4740]], requires_grad=True)\n",
      "\n",
      "layer1.bias Parameter containing:\n",
      "tensor([ 0.6568, -0.1330,  0.1160,  0.7362, -0.4385, -0.0979, -0.1904,  0.0833,\n",
      "        -0.0039, -0.1646, -0.3208,  0.4050, -0.2467,  0.3425,  0.2132,  0.1209],\n",
      "       requires_grad=True)\n",
      "\n",
      "layer2.weight Parameter containing:\n",
      "tensor([[-1.6650e+00,  1.4313e+00,  5.5477e-01, -1.7646e+00, -4.2453e-01,\n",
      "          1.4195e-01, -1.4890e+00,  7.7229e-01,  7.3263e-01, -8.8840e-01,\n",
      "          6.8225e-01,  8.4654e-01,  8.0387e-01,  5.6810e-01, -1.9195e-01,\n",
      "         -1.5554e+00],\n",
      "        [ 3.5508e-01, -9.5295e-01,  5.2454e-01, -1.2487e-01, -1.9494e-01,\n",
      "         -4.2053e-01,  1.3849e-01,  3.0719e-01,  3.9725e-01, -4.0348e-01,\n",
      "         -1.0835e-01, -6.8907e-02,  4.9895e-01,  5.6357e-01, -4.1336e-01,\n",
      "          1.0244e-03],\n",
      "        [ 5.7365e-01, -4.7130e-01, -1.6039e+00,  5.9943e-01,  5.7940e-01,\n",
      "          2.4020e-01,  6.6848e-01, -9.8899e-01, -1.6133e+00,  8.9341e-01,\n",
      "         -3.1075e-01, -9.7692e-01, -1.3136e+00, -9.5056e-01,  4.2609e-01,\n",
      "          5.7443e-01]], requires_grad=True)\n",
      "\n",
      "layer2.bias Parameter containing:\n",
      "tensor([-0.2273, -0.0799,  0.0024], requires_grad=True)\n",
      "\n"
     ]
    }
   ],
   "source": [
    "for i,j in test_model.named_parameters():\n",
    "    print(i, j)\n",
    "    print()"
   ]
  },
  {
   "cell_type": "code",
   "execution_count": null,
   "id": "769c0f67",
   "metadata": {},
   "outputs": [],
   "source": []
  }
 ],
 "metadata": {
  "kernelspec": {
   "display_name": "Python 3.9 (pytorch)",
   "language": "python",
   "name": "pytorch"
  },
  "language_info": {
   "codemirror_mode": {
    "name": "ipython",
    "version": 3
   },
   "file_extension": ".py",
   "mimetype": "text/x-python",
   "name": "python",
   "nbconvert_exporter": "python",
   "pygments_lexer": "ipython3",
   "version": "3.9.15 | packaged by conda-forge | (main, Nov 22 2022, 08:48:25) \n[Clang 14.0.6 ]"
  }
 },
 "nbformat": 4,
 "nbformat_minor": 5
}
