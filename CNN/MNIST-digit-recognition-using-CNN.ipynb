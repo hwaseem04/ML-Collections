{
 "cells": [
  {
   "cell_type": "markdown",
   "id": "d9538537",
   "metadata": {},
   "source": [
    "## Architecture\n",
    "- Input : 28 * 28 * 1\n",
    "- Convolution layer 1 with 32 filters - Output: 28 * 28 * 32 (32 filter maps)\n",
    "- Max pooling with 2 * 2 matrix - Output: 14 * 14 * 32 (Shrinked)\n",
    "- Convolution layer 2 with 64 filters of depth 32 - Output: 14 * 14 * 64\n",
    "- Max pooling with 2 * 2 matrix - Output: 7 * 7 * 64\n",
    "- FC1 \n",
    "- FC2 \n",
    "- Softmax"
   ]
  },
  {
   "cell_type": "code",
   "execution_count": 1,
   "id": "54cbc0a8",
   "metadata": {},
   "outputs": [
    {
     "name": "stderr",
     "output_type": "stream",
     "text": [
      "/Users/muhammadwaseem/miniconda3/envs/torch/lib/python3.9/site-packages/torchvision/io/image.py:13: UserWarning: Failed to load image Python extension: dlopen(/Users/muhammadwaseem/miniconda3/envs/torch/lib/python3.9/site-packages/torchvision/image.so, 0x0006): Symbol not found: __ZN2at4_ops19empty_memory_format4callEN3c108ArrayRefIxEENS2_8optionalINS2_10ScalarTypeEEENS5_INS2_6LayoutEEENS5_INS2_6DeviceEEENS5_IbEENS5_INS2_12MemoryFormatEEE\n",
      "  Referenced from: <CAE66874-17C2-35C9-9C4D-6BA9770AF17F> /Users/muhammadwaseem/miniconda3/envs/torch/lib/python3.9/site-packages/torchvision/image.so\n",
      "  Expected in:     <459875AA-DE2C-366B-9C44-90D4B3887080> /Users/muhammadwaseem/miniconda3/envs/torch/lib/python3.9/site-packages/torch/lib/libtorch_cpu.dylib\n",
      "  warn(f\"Failed to load image Python extension: {e}\")\n"
     ]
    }
   ],
   "source": [
    "import torch \n",
    "import torch.nn as nn\n",
    "import torchvision\n",
    "from torchvision import transforms\n",
    "from torch.utils.data import Subset\n",
    "from torch.utils.data import DataLoader, TensorDataset\n",
    "from torch.optim import Adam"
   ]
  },
  {
   "cell_type": "code",
   "execution_count": 2,
   "id": "90394714",
   "metadata": {},
   "outputs": [],
   "source": [
    "mps_device = torch.device(\"mps\")"
   ]
  },
  {
   "cell_type": "markdown",
   "id": "0cda754e",
   "metadata": {},
   "source": [
    "## Data"
   ]
  },
  {
   "cell_type": "code",
   "execution_count": 3,
   "id": "f09196ec",
   "metadata": {},
   "outputs": [],
   "source": [
    "image_path = './'\n",
    "mnist_data = torchvision.datasets.MNIST(root = image_path,\n",
    "                                        train = True,\n",
    "                                        transform = transforms.ToTensor(),\n",
    "                                        download = True)\n",
    "mnist_test_data = torchvision.datasets.MNIST(root = image_path, \n",
    "                                             train = False,\n",
    "                                             transform = transforms.ToTensor(),\n",
    "                                             download = True)"
   ]
  },
  {
   "cell_type": "code",
   "execution_count": 223,
   "id": "bdf38163",
   "metadata": {},
   "outputs": [
    {
     "data": {
      "text/plain": [
       "torch.uint8"
      ]
     },
     "execution_count": 223,
     "metadata": {},
     "output_type": "execute_result"
    }
   ],
   "source": [
    "mnist_data.data.dtype"
   ]
  },
  {
   "cell_type": "code",
   "execution_count": 4,
   "id": "a391c636",
   "metadata": {},
   "outputs": [],
   "source": [
    "mnist_valid_dataset = Subset(mnist_data, torch.arange(10000)) \n",
    "mnist_train_dataset = Subset(mnist_data, torch.arange(10000, len(mnist_data)))"
   ]
  },
  {
   "cell_type": "code",
   "execution_count": 221,
   "id": "19dc898d",
   "metadata": {},
   "outputs": [
    {
     "data": {
      "text/plain": [
       "torch.float32"
      ]
     },
     "execution_count": 221,
     "metadata": {},
     "output_type": "execute_result"
    }
   ],
   "source": [
    "mnist_valid_dataset[1][0].dtype"
   ]
  },
  {
   "cell_type": "code",
   "execution_count": 6,
   "id": "6d01cac8",
   "metadata": {},
   "outputs": [],
   "source": [
    "batch_size = 64\n",
    "torch.manual_seed(1) # To produce same set of 64 batch on each time when we run \n",
    "data = DataLoader(mnist_train_dataset, batch_size=batch_size, shuffle=True)\n",
    "\n",
    "# Why to shuffle validation?? What is the difference if I dont batch and calculate validation performance\n",
    "# entirely on the validation set after each epoch ?\n",
    "data_vl = DataLoader(mnist_valid_dataset, batch_size=batch_size, shuffle=False)"
   ]
  },
  {
   "cell_type": "code",
   "execution_count": 7,
   "id": "b62bc869",
   "metadata": {},
   "outputs": [
    {
     "data": {
      "text/plain": [
       "torch.Size([64, 1, 28, 28])"
      ]
     },
     "execution_count": 7,
     "metadata": {},
     "output_type": "execute_result"
    }
   ],
   "source": [
    "next(iter(data))[0].shape"
   ]
  },
  {
   "cell_type": "markdown",
   "id": "8637465b",
   "metadata": {},
   "source": [
    "## Model"
   ]
  },
  {
   "cell_type": "code",
   "execution_count": 8,
   "id": "d1af417a",
   "metadata": {},
   "outputs": [
    {
     "data": {
      "text/plain": [
       "Sequential(\n",
       "  (conv1): Conv2d(1, 32, kernel_size=(5, 5), stride=(1, 1), padding=(2, 2))\n",
       "  (relu1): ReLU()\n",
       "  (pool1): MaxPool2d(kernel_size=2, stride=2, padding=0, dilation=1, ceil_mode=False)\n",
       "  (conv2): Conv2d(32, 64, kernel_size=(5, 5), stride=(1, 1), padding=(2, 2))\n",
       "  (relu2): ReLU()\n",
       "  (pool2): MaxPool2d(kernel_size=2, stride=2, padding=0, dilation=1, ceil_mode=False)\n",
       "  (flatten): Flatten(start_dim=1, end_dim=-1)\n",
       "  (fc1): Linear(in_features=3136, out_features=1024, bias=True)\n",
       "  (relu3): ReLU()\n",
       "  (dropout): Dropout(p=0.5, inplace=False)\n",
       "  (fc2): Linear(in_features=1024, out_features=10, bias=True)\n",
       ")"
      ]
     },
     "execution_count": 8,
     "metadata": {},
     "output_type": "execute_result"
    }
   ],
   "source": [
    "model = nn.Sequential()\n",
    "model.add_module('conv1', \n",
    "                 nn.Conv2d( in_channels=1, out_channels=32,\n",
    "                 kernel_size=5, padding=2)) # Padding=2 which makes it as `same mode`\n",
    "model.add_module('relu1', nn.ReLU())\n",
    "model.add_module('pool1', nn.MaxPool2d(kernel_size=2)) # default: stride=kernel_size=2\n",
    "model.add_module('conv2',\n",
    "                 nn.Conv2d( in_channels=32, out_channels=64,\n",
    "                 kernel_size=5, padding=2))\n",
    "model.add_module('relu2', nn.ReLU())\n",
    "model.add_module('pool2', nn.MaxPool2d(kernel_size=2))\n",
    "model.add_module('flatten', nn.Flatten(1))\n",
    "model.add_module('fc1', nn.Linear(3136, 1024)) # 3136 is determined by inspecting the output of prev layer :)\n",
    "model.add_module('relu3', nn.ReLU())\n",
    "# DROPOUT: leave half of the neuron units while training on each iteration. But batch wise or epoch wise?\n",
    "model.add_module('dropout', nn.Dropout(p=0.5))  # Inverse dropout will be carried out during training phase\n",
    "model.add_module('fc2', nn.Linear(1024, 10))\n",
    "#model.add_module('relu4', nn.ReLU()) ## Mistakely added this lead to accuracy very low\n",
    "model"
   ]
  },
  {
   "cell_type": "code",
   "execution_count": 9,
   "id": "9da84926",
   "metadata": {},
   "outputs": [],
   "source": [
    "model = model.to(mps_device)"
   ]
  },
  {
   "cell_type": "code",
   "execution_count": 10,
   "id": "873a2fc0",
   "metadata": {},
   "outputs": [
    {
     "data": {
      "text/plain": [
       "torch.Size([64, 10])"
      ]
     },
     "execution_count": 10,
     "metadata": {},
     "output_type": "execute_result"
    }
   ],
   "source": [
    "x = torch.ones((64,1, 28, 28), device=mps_device)\n",
    "model(x).shape"
   ]
  },
  {
   "cell_type": "markdown",
   "id": "bc170603",
   "metadata": {},
   "source": [
    "## Training"
   ]
  },
  {
   "cell_type": "code",
   "execution_count": 11,
   "id": "57112a8b",
   "metadata": {},
   "outputs": [],
   "source": [
    "loss_fn = nn.CrossEntropyLoss()\n",
    "optimizer = Adam(model.parameters(), lr=0.001)\n",
    "\n",
    "def train(model, epoch, data, data_vl):\n",
    "    train_loss = [0] * epoch\n",
    "    train_accuracy = [0] * epoch\n",
    "    validation_loss = [0] * epoch\n",
    "    validation_accuracy = [0] * epoch\n",
    "    for i in range(epoch):\n",
    "        model.train() # to ENABLE dropout while training\n",
    "        for x_batch, y_batch in data:\n",
    "            x_batch = x_batch.to(mps_device)\n",
    "            y_batch = y_batch.to(mps_device)\n",
    "            pred = model(x_batch)\n",
    "            loss = loss_fn(pred, y_batch)\n",
    "            loss.backward()\n",
    "            optimizer.step()\n",
    "            optimizer.zero_grad()\n",
    "            train_loss[i] += loss.item() * x_batch.size(0)\n",
    "            soft_pred = torch.softmax(pred, axis=1) # why is it not done?\n",
    "            \n",
    "            is_crt = (torch.argmax(soft_pred, dim=1) == y_batch).to(torch.float32).sum().cpu()\n",
    "            train_accuracy[i] += is_crt\n",
    "\n",
    "        train_loss[i] /= len(data.dataset)\n",
    "        train_accuracy[i] /= len(data.dataset)\n",
    "        \n",
    "        model.eval() # to AVOID dropout while inference\n",
    "        \n",
    "        # Why dont we calculate the validation error/accuracy after an entire epoch? Is performance a reason?\n",
    "        with torch.no_grad():\n",
    "            for x_batch, y_batch in data_vl:\n",
    "                x_batch = x_batch.to(mps_device)\n",
    "                y_batch = y_batch.to(mps_device)\n",
    "                pred = model(x_batch)\n",
    "                loss = loss_fn(pred, y_batch)\n",
    "                validation_loss[i] += loss.item() * x_batch.size(0)\n",
    "                soft_pred = torch.softmax(pred, axis=1) # why is it not done?\n",
    "                is_crt = (torch.argmax(soft_pred, dim=1) == y_batch).sum().to(torch.float32).cpu()\n",
    "                validation_accuracy[i] += is_crt\n",
    "            validation_loss[i] /= len(data_vl.dataset)\n",
    "            validation_accuracy[i] /= len(data_vl.dataset)\n",
    "        print(f\"Epoch: {i+1}, Accuracy - train: {train_accuracy[i]}, validation: {validation_accuracy[i]}\")\n",
    "    return train_loss, train_accuracy, validation_loss, validation_accuracy\n",
    "\n"
   ]
  },
  {
   "cell_type": "code",
   "execution_count": 12,
   "id": "31502581",
   "metadata": {},
   "outputs": [
    {
     "name": "stdout",
     "output_type": "stream",
     "text": [
      "Epoch: 1, Accuracy - train: 0.9506199955940247, validation: 0.9811999797821045\n",
      "Epoch: 2, Accuracy - train: 0.9853000044822693, validation: 0.9851999878883362\n",
      "Epoch: 3, Accuracy - train: 0.9902200102806091, validation: 0.982699990272522\n",
      "Epoch: 4, Accuracy - train: 0.9920200109481812, validation: 0.989300012588501\n",
      "Epoch: 5, Accuracy - train: 0.9929999709129333, validation: 0.9883000254631042\n",
      "Epoch: 6, Accuracy - train: 0.9944599866867065, validation: 0.987500011920929\n",
      "Epoch: 7, Accuracy - train: 0.9960600137710571, validation: 0.9896000027656555\n",
      "Epoch: 8, Accuracy - train: 0.9959999918937683, validation: 0.9878000020980835\n",
      "Epoch: 9, Accuracy - train: 0.9963799715042114, validation: 0.9883999824523926\n",
      "Epoch: 10, Accuracy - train: 0.9964600205421448, validation: 0.9912999868392944\n",
      "Epoch: 11, Accuracy - train: 0.9975200295448303, validation: 0.991100013256073\n",
      "Epoch: 12, Accuracy - train: 0.9973800182342529, validation: 0.9900000095367432\n",
      "Epoch: 13, Accuracy - train: 0.9977800250053406, validation: 0.9909999966621399\n",
      "Epoch: 14, Accuracy - train: 0.9973400235176086, validation: 0.9897000193595886\n",
      "Epoch: 15, Accuracy - train: 0.9981399774551392, validation: 0.9919999837875366\n",
      "Epoch: 16, Accuracy - train: 0.9974799752235413, validation: 0.9912999868392944\n",
      "Epoch: 17, Accuracy - train: 0.9979199767112732, validation: 0.9918000102043152\n",
      "Epoch: 18, Accuracy - train: 0.9987800121307373, validation: 0.9916999936103821\n",
      "Epoch: 19, Accuracy - train: 0.998520016670227, validation: 0.9926999807357788\n",
      "Epoch: 20, Accuracy - train: 0.999019980430603, validation: 0.9912999868392944\n"
     ]
    }
   ],
   "source": [
    "torch.manual_seed(1)\n",
    "epoch = 20\n",
    "train_loss, train_accuracy, validation_loss, validation_accuracy = train(model, epoch, data, data_vl)"
   ]
  },
  {
   "cell_type": "code",
   "execution_count": 15,
   "id": "f4a7a897",
   "metadata": {},
   "outputs": [
    {
     "data": {
      "text/plain": [
       "Text(0, 0.5, '$Accuracy$')"
      ]
     },
     "execution_count": 15,
     "metadata": {},
     "output_type": "execute_result"
    },
    {
     "data": {
      "image/png": "[encoded data removed]",
      "text/plain": [
       "<Figure size 1200x500 with 2 Axes>"
      ]
     },
     "metadata": {},
     "output_type": "display_data"
    }
   ],
   "source": [
    "import matplotlib.pyplot as plt\n",
    "import numpy as np\n",
    "\n",
    "plt.figure(figsize=(12,5))\n",
    "plt.subplot(1,2,1)\n",
    "plt.plot(np.arange(epoch), train_loss, '-o', label=\"Train Loss\")\n",
    "plt.plot(np.arange(epoch), validation_loss, '--<', label=\"Validation Loss\")\n",
    "plt.xlabel(\"$Epoch$\")\n",
    "plt.ylabel(\"$Loss$\")\n",
    "\n",
    "plt.subplot(1,2,2)\n",
    "plt.plot(np.arange(epoch), train_accuracy, '-o', label=\"Train Accuracy\")\n",
    "plt.plot(np.arange(epoch), validation_accuracy, '--<', label=\"Validation Accuracy\")\n",
    "plt.xlabel(\"$Epoch$\")\n",
    "plt.ylabel(\"$Accuracy$\")"
   ]
  },
  {
   "cell_type": "markdown",
   "id": "b4ee82f7",
   "metadata": {},
   "source": [
    "## Test data accuracy"
   ]
  },
  {
   "cell_type": "code",
   "execution_count": 259,
   "id": "107e851c",
   "metadata": {},
   "outputs": [
    {
     "data": {
      "text/plain": [
       "torch.uint8"
      ]
     },
     "execution_count": 259,
     "metadata": {},
     "output_type": "execute_result"
    }
   ],
   "source": [
    "mnist_test_data.data[0].dtype"
   ]
  },
  {
   "cell_type": "code",
   "execution_count": 260,
   "id": "7e6d9bf0",
   "metadata": {},
   "outputs": [
    {
     "data": {
      "text/plain": [
       "torch.float32"
      ]
     },
     "execution_count": 260,
     "metadata": {},
     "output_type": "execute_result"
    }
   ],
   "source": [
    "mnist_test_data[0][0].dtype"
   ]
  },
  {
   "cell_type": "code",
   "execution_count": 16,
   "id": "7d6bfec5",
   "metadata": {},
   "outputs": [
    {
     "data": {
      "text/plain": [
       "10000"
      ]
     },
     "execution_count": 16,
     "metadata": {},
     "output_type": "execute_result"
    }
   ],
   "source": [
    "len(mnist_test_data)"
   ]
  },
  {
   "cell_type": "code",
   "execution_count": 84,
   "id": "7a8ad49f",
   "metadata": {},
   "outputs": [
    {
     "name": "stdout",
     "output_type": "stream",
     "text": [
      "Accuracy: 0.9932\n"
     ]
    }
   ],
   "source": [
    "data_test = DataLoader(mnist_test_data, 64, shuffle=True)\n",
    "\n",
    "total_crt = 0\n",
    "with torch.no_grad():\n",
    "    for x_batch, y_batch in data_test:\n",
    "        x_batch = x_batch.to(mps_device)\n",
    "        y_batch = y_batch.to(mps_device)\n",
    "        pred = model(x_batch)\n",
    "        loss = loss_fn(pred, y_batch)\n",
    "        soft_pred = torch.softmax(pred, axis=1)\n",
    "        is_crt = (torch.argmax(soft_pred, axis=1) == y_batch).float().sum()\n",
    "        total_crt += is_crt\n",
    "    print(f\"Accuracy: {total_crt/len(data_test.dataset):.4f}\")"
   ]
  },
  {
   "cell_type": "code",
   "execution_count": 85,
   "id": "859708b3",
   "metadata": {},
   "outputs": [
    {
     "data": {
      "text/plain": [
       "tensor(9932., device='mps:0')"
      ]
     },
     "execution_count": 85,
     "metadata": {},
     "output_type": "execute_result"
    }
   ],
   "source": [
    "total_crt"
   ]
  },
  {
   "cell_type": "code",
   "execution_count": 156,
   "id": "a560e914",
   "metadata": {},
   "outputs": [
    {
     "name": "stdout",
     "output_type": "stream",
     "text": [
      "torch.Size([10000, 1, 28, 28])\n",
      "tensor([[-37.6836, -19.1679, -17.8474,  ...,  42.5817, -36.9515, -18.8134],\n",
      "        [-10.7249, -13.9031,  35.2150,  ..., -31.3361, -15.8908, -30.5881],\n",
      "        [-26.1027,  32.3364, -27.1926,  ..., -17.1892, -11.1988, -25.5374],\n",
      "        ...,\n",
      "        [-43.9979, -17.6347, -33.0978,  ..., -25.9862, -14.4071, -18.7628],\n",
      "        [-25.4065, -27.3832, -34.0300,  ..., -22.3598,  -1.8935, -17.1660],\n",
      "        [-10.2998, -21.0205, -21.6235,  ..., -33.4993, -13.6961, -20.9885]],\n",
      "       device='mps:0')\n",
      "Accuracy: 0.9932\n"
     ]
    }
   ],
   "source": [
    "model = model.to(mps_device)\n",
    "data_test = DataLoader(mnist_test_data, 10000, shuffle=False)\n",
    "\n",
    "total_crt = 0\n",
    "with torch.no_grad():\n",
    "    for x_batch, y_batch in data_test:\n",
    "        print(x_batch.shape)\n",
    "        x_batch = x_batch.to(mps_device)\n",
    "        y_batch = y_batch.to(mps_device)\n",
    "        pred = model(x_batch)\n",
    "        print(pred)\n",
    "        loss = loss_fn(pred, y_batch)\n",
    "        soft_pred = torch.softmax(pred, axis=1)\n",
    "        is_crt = (torch.argmax(soft_pred, axis=1) == y_batch).float().sum()\n",
    "        total_crt += is_crt\n",
    "    print(f\"Accuracy: {total_crt/len(data_test.dataset):.4f}\")"
   ]
  },
  {
   "cell_type": "code",
   "execution_count": 239,
   "id": "d60bc1b1",
   "metadata": {},
   "outputs": [
    {
     "data": {
      "text/plain": [
       "tensor([[-37.6836, -19.1679, -17.8474,  ...,  42.5817, -36.9514, -18.8134],\n",
       "        [-10.7249, -13.9031,  35.2149,  ..., -31.3361, -15.8908, -30.5881],\n",
       "        [-26.1026,  32.3364, -27.1926,  ..., -17.1892, -11.1988, -25.5374],\n",
       "        ...,\n",
       "        [-43.9979, -17.6347, -33.0978,  ..., -25.9862, -14.4071, -18.7628],\n",
       "        [-25.4065, -27.3831, -34.0300,  ..., -22.3598,  -1.8935, -17.1660],\n",
       "        [-10.2998, -21.0205, -21.6235,  ..., -33.4993, -13.6961, -20.9885]],\n",
       "       grad_fn=<AddmmBackward0>)"
      ]
     },
     "execution_count": 239,
     "metadata": {},
     "output_type": "execute_result"
    }
   ],
   "source": [
    "model = model.to('cpu')\n",
    "testing = mnist_test_data.data.unsqueeze(1).to(torch.float32)/255\n",
    "proba= model(testing)\n",
    "proba"
   ]
  },
  {
   "cell_type": "markdown",
   "id": "12d7b7dd",
   "metadata": {},
   "source": [
    "### Why only 9894 are correct, wheras in earlier batch wise calculation 9932 are correct ?\n",
    "- Reason : For some reason, the mnist_test_data is not scaled to [0-1] because of which there was issue. After dividing by 255, the range is 0-1 (which is used during training), the issue solved\n",
    "- But why it is not scaled to 0-1 despite scaled in the batchwise method above? \n",
    "    - Look above - when indexing directly it is scaled, but not when accessing via `.data`"
   ]
  },
  {
   "cell_type": "code",
   "execution_count": 240,
   "id": "4db9e165",
   "metadata": {},
   "outputs": [
    {
     "data": {
      "text/plain": [
       "tensor([[1.3843e-35, 1.5222e-27, 5.7014e-27,  ..., 1.0000e+00, 2.8787e-35,\n",
       "         2.1700e-27],\n",
       "        [1.1183e-20, 4.6593e-22, 1.0000e+00,  ..., 1.2509e-29, 6.3835e-23,\n",
       "         2.6431e-29],\n",
       "        [4.1709e-26, 1.0000e+00, 1.4024e-26,  ..., 3.0994e-22, 1.2385e-19,\n",
       "         7.3405e-26],\n",
       "        ...,\n",
       "        [4.1752e-39, 1.1750e-27, 2.2622e-34,  ..., 2.7736e-31, 2.9634e-26,\n",
       "         3.8031e-28],\n",
       "        [1.0559e-24, 1.4628e-25, 1.8989e-28,  ..., 2.2222e-23, 1.7187e-14,\n",
       "         4.0034e-21],\n",
       "        [1.5485e-18, 3.4196e-23, 1.8712e-23,  ..., 1.3017e-28, 5.1870e-20,\n",
       "         3.5307e-23]], grad_fn=<SoftmaxBackward0>)"
      ]
     },
     "execution_count": 240,
     "metadata": {},
     "output_type": "execute_result"
    }
   ],
   "source": [
    "torch.softmax(proba, dim=1)"
   ]
  },
  {
   "cell_type": "code",
   "execution_count": 241,
   "id": "b67b235e",
   "metadata": {},
   "outputs": [],
   "source": [
    "pred = torch.argmax(nn.Softmax( dim=1)(proba), axis=1)\n"
   ]
  },
  {
   "cell_type": "code",
   "execution_count": 230,
   "id": "4f33efcd",
   "metadata": {},
   "outputs": [
    {
     "data": {
      "text/plain": [
       "tensor(0.9932)"
      ]
     },
     "execution_count": 230,
     "metadata": {},
     "output_type": "execute_result"
    }
   ],
   "source": [
    "(pred == mnist_test_data.targets).float().mean()"
   ]
  },
  {
   "cell_type": "code",
   "execution_count": 243,
   "id": "03188ba2",
   "metadata": {},
   "outputs": [],
   "source": [
    "from sklearn.metrics import  classification_report"
   ]
  },
  {
   "cell_type": "code",
   "execution_count": 244,
   "id": "12d3535f",
   "metadata": {},
   "outputs": [
    {
     "name": "stdout",
     "output_type": "stream",
     "text": [
      "              precision    recall  f1-score   support\n",
      "\n",
      "           0       1.00      1.00      1.00       980\n",
      "           1       1.00      0.99      1.00      1142\n",
      "           2       0.99      0.99      0.99      1029\n",
      "           3       0.99      1.00      0.99      1007\n",
      "           4       0.99      0.99      0.99       984\n",
      "           5       0.99      0.99      0.99       894\n",
      "           6       0.99      1.00      0.99       954\n",
      "           7       0.99      0.99      0.99      1034\n",
      "           8       1.00      1.00      1.00       974\n",
      "           9       0.99      0.99      0.99      1002\n",
      "\n",
      "    accuracy                           0.99     10000\n",
      "   macro avg       0.99      0.99      0.99     10000\n",
      "weighted avg       0.99      0.99      0.99     10000\n",
      "\n"
     ]
    }
   ],
   "source": [
    "print(classification_report(pred, mnist_test_data.targets))"
   ]
  }
 ],
 "metadata": {
  "kernelspec": {
   "display_name": "Python 3.9 (pytorch)",
   "language": "python",
   "name": "pytorch"
  },
  "language_info": {
   "codemirror_mode": {
    "name": "ipython",
    "version": 3
   },
   "file_extension": ".py",
   "mimetype": "text/x-python",
   "name": "python",
   "nbconvert_exporter": "python",
   "pygments_lexer": "ipython3",
   "version": "3.9.15"
  }
 },
 "nbformat": 4,
 "nbformat_minor": 5
}
