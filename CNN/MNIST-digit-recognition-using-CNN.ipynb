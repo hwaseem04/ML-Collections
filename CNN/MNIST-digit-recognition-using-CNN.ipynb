{
 "cells": [
  {
   "cell_type": "markdown",
   "id": "d9538537",
   "metadata": {},
   "source": [
    "## Architecture\n",
    "- Input : 28 * 28 * 1\n",
    "- Convolution layer 1 with 32 filters - Output: 28 * 28 * 32 (32 filter maps)\n",
    "- Max pooling with 2 * 2 matrix - Output: 14 * 14 * 32 (Shrinked)\n",
    "- Convolution layer 2 with 64 filters of depth 32 - Output: 14 * 14 * 64\n",
    "- Max pooling with 2 * 2 matrix - Output: 7 * 7 * 64\n",
    "- FC1 \n",
    "- FC2 \n",
    "- Softmax"
   ]
  },
  {
   "cell_type": "code",
   "execution_count": 1,
   "id": "54cbc0a8",
   "metadata": {},
   "outputs": [
    {
     "name": "stderr",
     "output_type": "stream",
     "text": [
      "/Users/muhammadwaseem/miniconda3/envs/torch/lib/python3.9/site-packages/torchvision/io/image.py:13: UserWarning: Failed to load image Python extension: dlopen(/Users/muhammadwaseem/miniconda3/envs/torch/lib/python3.9/site-packages/torchvision/image.so, 0x0006): Symbol not found: __ZN2at4_ops19empty_memory_format4callEN3c108ArrayRefIxEENS2_8optionalINS2_10ScalarTypeEEENS5_INS2_6LayoutEEENS5_INS2_6DeviceEEENS5_IbEENS5_INS2_12MemoryFormatEEE\n",
      "  Referenced from: <CAE66874-17C2-35C9-9C4D-6BA9770AF17F> /Users/muhammadwaseem/miniconda3/envs/torch/lib/python3.9/site-packages/torchvision/image.so\n",
      "  Expected in:     <459875AA-DE2C-366B-9C44-90D4B3887080> /Users/muhammadwaseem/miniconda3/envs/torch/lib/python3.9/site-packages/torch/lib/libtorch_cpu.dylib\n",
      "  warn(f\"Failed to load image Python extension: {e}\")\n"
     ]
    }
   ],
   "source": [
    "import torch \n",
    "import torch.nn as nn\n",
    "import torchvision\n",
    "from torchvision import transforms\n",
    "from torch.utils.data import Subset\n",
    "from torch.utils.data import DataLoader, TensorDataset\n",
    "from torch.optim import Adam"
   ]
  },
  {
   "cell_type": "code",
   "execution_count": 2,
   "id": "90394714",
   "metadata": {},
   "outputs": [],
   "source": [
    "mps_device = torch.device(\"mps\")"
   ]
  },
  {
   "cell_type": "markdown",
   "id": "0cda754e",
   "metadata": {},
   "source": [
    "## Data"
   ]
  },
  {
   "cell_type": "code",
   "execution_count": 3,
   "id": "f09196ec",
   "metadata": {},
   "outputs": [],
   "source": [
    "image_path = './'\n",
    "mnist_data = torchvision.datasets.MNIST(root = image_path,\n",
    "                                        train = True,\n",
    "                                        transform = transforms.ToTensor(),\n",
    "                                        download = True)\n",
    "mnist_test_data = torchvision.datasets.MNIST(root = image_path, \n",
    "                                             train = False,\n",
    "                                             transform = transforms.ToTensor(),\n",
    "                                             download = True)"
   ]
  },
  {
   "cell_type": "code",
   "execution_count": 4,
   "id": "a391c636",
   "metadata": {},
   "outputs": [],
   "source": [
    "mnist_valid_dataset = Subset(mnist_data, torch.arange(10000)) \n",
    "mnist_train_dataset = Subset(mnist_data, torch.arange(10000, len(mnist_data)))"
   ]
  },
  {
   "cell_type": "code",
   "execution_count": 5,
   "id": "19dc898d",
   "metadata": {},
   "outputs": [
    {
     "data": {
      "text/plain": [
       "torch.Size([1, 28, 28])"
      ]
     },
     "execution_count": 5,
     "metadata": {},
     "output_type": "execute_result"
    }
   ],
   "source": [
    "mnist_valid_dataset[1][0].shape"
   ]
  },
  {
   "cell_type": "code",
   "execution_count": 6,
   "id": "6d01cac8",
   "metadata": {},
   "outputs": [],
   "source": [
    "batch_size = 64\n",
    "torch.manual_seed(1) # To produce same set of 64 batch on each time when we run \n",
    "data = DataLoader(mnist_train_dataset, batch_size=batch_size, shuffle=True)\n",
    "\n",
    "# Why to shuffle validation?? What is the difference if I dont batch and calculate validation performance\n",
    "# entirely on the validation set after each epoch ?\n",
    "data_vl = DataLoader(mnist_valid_dataset, batch_size=batch_size, shuffle=False)"
   ]
  },
  {
   "cell_type": "code",
   "execution_count": 7,
   "id": "b62bc869",
   "metadata": {},
   "outputs": [
    {
     "data": {
      "text/plain": [
       "torch.Size([64, 1, 28, 28])"
      ]
     },
     "execution_count": 7,
     "metadata": {},
     "output_type": "execute_result"
    }
   ],
   "source": [
    "next(iter(data))[0].shape"
   ]
  },
  {
   "cell_type": "markdown",
   "id": "8637465b",
   "metadata": {},
   "source": [
    "## Model"
   ]
  },
  {
   "cell_type": "code",
   "execution_count": 8,
   "id": "d1af417a",
   "metadata": {},
   "outputs": [
    {
     "data": {
      "text/plain": [
       "Sequential(\n",
       "  (conv1): Conv2d(1, 32, kernel_size=(5, 5), stride=(1, 1), padding=(2, 2))\n",
       "  (relu1): ReLU()\n",
       "  (pool1): MaxPool2d(kernel_size=2, stride=2, padding=0, dilation=1, ceil_mode=False)\n",
       "  (conv2): Conv2d(32, 64, kernel_size=(5, 5), stride=(1, 1), padding=(2, 2))\n",
       "  (relu2): ReLU()\n",
       "  (pool2): MaxPool2d(kernel_size=2, stride=2, padding=0, dilation=1, ceil_mode=False)\n",
       "  (flatten): Flatten(start_dim=1, end_dim=-1)\n",
       "  (fc1): Linear(in_features=3136, out_features=1024, bias=True)\n",
       "  (relu3): ReLU()\n",
       "  (dropout): Dropout(p=0.5, inplace=False)\n",
       "  (fc2): Linear(in_features=1024, out_features=10, bias=True)\n",
       ")"
      ]
     },
     "execution_count": 8,
     "metadata": {},
     "output_type": "execute_result"
    }
   ],
   "source": [
    "model = nn.Sequential()\n",
    "model.add_module('conv1', \n",
    "                 nn.Conv2d( in_channels=1, out_channels=32,\n",
    "                 kernel_size=5, padding=2)) # Padding=2 which makes it as `same mode`\n",
    "model.add_module('relu1', nn.ReLU())\n",
    "model.add_module('pool1', nn.MaxPool2d(kernel_size=2)) # default: stride=kernel_size=2\n",
    "model.add_module('conv2',\n",
    "                 nn.Conv2d( in_channels=32, out_channels=64,\n",
    "                 kernel_size=5, padding=2))\n",
    "model.add_module('relu2', nn.ReLU())\n",
    "model.add_module('pool2', nn.MaxPool2d(kernel_size=2))\n",
    "model.add_module('flatten', nn.Flatten(1))\n",
    "model.add_module('fc1', nn.Linear(3136, 1024)) # 3136 is determined by inspecting the output of prev layer :)\n",
    "model.add_module('relu3', nn.ReLU())\n",
    "# DROPOUT: leave half of the neuron units while training on each iteration. But batch wise or epoch wise?\n",
    "model.add_module('dropout', nn.Dropout(p=0.5))  # Inverse dropout will be carried out during training phase\n",
    "model.add_module('fc2', nn.Linear(1024, 10))\n",
    "#model.add_module('relu4', nn.ReLU()) ## Mistakely added this lead to accuracy very low\n",
    "model"
   ]
  },
  {
   "cell_type": "code",
   "execution_count": 9,
   "id": "9da84926",
   "metadata": {},
   "outputs": [],
   "source": [
    "model = model.to(mps_device)"
   ]
  },
  {
   "cell_type": "code",
   "execution_count": 10,
   "id": "873a2fc0",
   "metadata": {},
   "outputs": [
    {
     "data": {
      "text/plain": [
       "torch.Size([64, 10])"
      ]
     },
     "execution_count": 10,
     "metadata": {},
     "output_type": "execute_result"
    }
   ],
   "source": [
    "x = torch.ones((64,1, 28, 28), device=mps_device)\n",
    "model(x).shape"
   ]
  },
  {
   "cell_type": "markdown",
   "id": "bc170603",
   "metadata": {},
   "source": [
    "## Training"
   ]
  },
  {
   "cell_type": "code",
   "execution_count": 11,
   "id": "57112a8b",
   "metadata": {},
   "outputs": [],
   "source": [
    "loss_fn = nn.CrossEntropyLoss()\n",
    "optimizer = Adam(model.parameters(), lr=0.001)\n",
    "\n",
    "def train(model, epoch, data, data_vl):\n",
    "    train_loss = [0] * epoch\n",
    "    train_accuracy = [0] * epoch\n",
    "    validation_loss = [0] * epoch\n",
    "    validation_accuracy = [0] * epoch\n",
    "    for i in range(epoch):\n",
    "        model.train() # to ENABLE dropout while training\n",
    "        for x_batch, y_batch in data:\n",
    "            x_batch = x_batch.to(mps_device)\n",
    "            y_batch = y_batch.to(mps_device)\n",
    "            pred = model(x_batch)\n",
    "            loss = loss_fn(pred, y_batch)\n",
    "            loss.backward()\n",
    "            optimizer.step()\n",
    "            optimizer.zero_grad()\n",
    "            train_loss[i] += loss.item() * x_batch.size(0)\n",
    "            soft_pred = torch.softmax(pred, axis=1) # why is it not done?\n",
    "            \n",
    "            is_crt = (torch.argmax(soft_pred, dim=1) == y_batch).to(torch.float32).sum().cpu()\n",
    "            train_accuracy[i] += is_crt\n",
    "\n",
    "        train_loss[i] /= len(data.dataset)\n",
    "        train_accuracy[i] /= len(data.dataset)\n",
    "        \n",
    "        model.eval() # to AVOID dropout while inference\n",
    "        \n",
    "        # Why dont we calculate the validation error/accuracy after an entire epoch? Is performance a reason?\n",
    "        with torch.no_grad():\n",
    "            for x_batch, y_batch in data_vl:\n",
    "                x_batch = x_batch.to(mps_device)\n",
    "                y_batch = y_batch.to(mps_device)\n",
    "                pred = model(x_batch)\n",
    "                loss = loss_fn(pred, y_batch)\n",
    "                validation_loss[i] += loss.item() * x_batch.size(0)\n",
    "                soft_pred = torch.softmax(pred, axis=1) # why is it not done?\n",
    "                is_crt = (torch.argmax(soft_pred, dim=1) == y_batch).sum().to(torch.float32).cpu()\n",
    "                validation_accuracy[i] += is_crt\n",
    "            validation_loss[i] /= len(data_vl.dataset)\n",
    "            validation_accuracy[i] /= len(data_vl.dataset)\n",
    "        print(f\"Epoch: {i+1}, Accuracy - train: {train_accuracy[i]}, validation: {validation_accuracy[i]}\")\n",
    "    return train_loss, train_accuracy, validation_loss, validation_accuracy\n",
    "\n"
   ]
  },
  {
   "cell_type": "code",
   "execution_count": 12,
   "id": "31502581",
   "metadata": {},
   "outputs": [
    {
     "name": "stdout",
     "output_type": "stream",
     "text": [
      "Epoch: 1, Accuracy - train: 0.9507399797439575, validation: 0.9830999970436096\n",
      "Epoch: 2, Accuracy - train: 0.9849600195884705, validation: 0.9847999811172485\n",
      "Epoch: 3, Accuracy - train: 0.9889799952507019, validation: 0.9865000247955322\n",
      "Epoch: 4, Accuracy - train: 0.9922599792480469, validation: 0.989799976348877\n",
      "Epoch: 5, Accuracy - train: 0.9930599927902222, validation: 0.9904999732971191\n",
      "Epoch: 6, Accuracy - train: 0.9950799942016602, validation: 0.9894000291824341\n",
      "Epoch: 7, Accuracy - train: 0.995140016078949, validation: 0.9907000064849854\n",
      "Epoch: 8, Accuracy - train: 0.9957200288772583, validation: 0.9908999800682068\n",
      "Epoch: 9, Accuracy - train: 0.9963799715042114, validation: 0.9908000230789185\n",
      "Epoch: 10, Accuracy - train: 0.9967399835586548, validation: 0.9904999732971191\n",
      "Epoch: 11, Accuracy - train: 0.9970800280570984, validation: 0.9907000064849854\n",
      "Epoch: 12, Accuracy - train: 0.9974600076675415, validation: 0.9911999702453613\n",
      "Epoch: 13, Accuracy - train: 0.9975799918174744, validation: 0.9897000193595886\n",
      "Epoch: 14, Accuracy - train: 0.9975399971008301, validation: 0.9912999868392944\n",
      "Epoch: 15, Accuracy - train: 0.9983999729156494, validation: 0.9918000102043152\n",
      "Epoch: 16, Accuracy - train: 0.9981200098991394, validation: 0.9908999800682068\n",
      "Epoch: 17, Accuracy - train: 0.9974200129508972, validation: 0.9915000200271606\n",
      "Epoch: 18, Accuracy - train: 0.9978600144386292, validation: 0.9919000267982483\n",
      "Epoch: 19, Accuracy - train: 0.9984800219535828, validation: 0.9915000200271606\n",
      "Epoch: 20, Accuracy - train: 0.9984599947929382, validation: 0.9898999929428101\n"
     ]
    }
   ],
   "source": [
    "torch.manual_seed(1)\n",
    "epoch = 20\n",
    "train_loss, train_accuracy, validation_loss, validation_accuracy = train(model, epoch, data, data_vl)"
   ]
  },
  {
   "cell_type": "code",
   "execution_count": 28,
   "id": "f4a7a897",
   "metadata": {},
   "outputs": [
    {
     "ename": "NameError",
     "evalue": "name 'Validation_accuracy' is not defined",
     "output_type": "error",
     "traceback": [
      "\u001b[0;31m---------------------------------------------------------------------------\u001b[0m",
      "\u001b[0;31mNameError\u001b[0m                                 Traceback (most recent call last)",
      "Cell \u001b[0;32mIn[28], line 12\u001b[0m\n\u001b[1;32m     10\u001b[0m plt\u001b[38;5;241m.\u001b[39msubplot(\u001b[38;5;241m1\u001b[39m,\u001b[38;5;241m2\u001b[39m,\u001b[38;5;241m2\u001b[39m)\n\u001b[1;32m     11\u001b[0m plt\u001b[38;5;241m.\u001b[39mplot(np\u001b[38;5;241m.\u001b[39marange(epoch), train_accuracy, \u001b[38;5;124m'\u001b[39m\u001b[38;5;124m-o\u001b[39m\u001b[38;5;124m'\u001b[39m, label\u001b[38;5;241m=\u001b[39m\u001b[38;5;124m\"\u001b[39m\u001b[38;5;124mTrain Accuracy\u001b[39m\u001b[38;5;124m\"\u001b[39m)\n\u001b[0;32m---> 12\u001b[0m plt\u001b[38;5;241m.\u001b[39mplot(np\u001b[38;5;241m.\u001b[39marange(epoch), \u001b[43mValidation_accuracy\u001b[49m, \u001b[38;5;124m'\u001b[39m\u001b[38;5;124m--<\u001b[39m\u001b[38;5;124m'\u001b[39m, label\u001b[38;5;241m=\u001b[39m\u001b[38;5;124m\"\u001b[39m\u001b[38;5;124mValidation Accuracy\u001b[39m\u001b[38;5;124m\"\u001b[39m)\n\u001b[1;32m     13\u001b[0m plt\u001b[38;5;241m.\u001b[39mxlabel(\u001b[38;5;124m\"\u001b[39m\u001b[38;5;124m$Epoch$\u001b[39m\u001b[38;5;124m\"\u001b[39m)\n\u001b[1;32m     14\u001b[0m plt\u001b[38;5;241m.\u001b[39mylabel(\u001b[38;5;124m\"\u001b[39m\u001b[38;5;124m$Accuracy$\u001b[39m\u001b[38;5;124m\"\u001b[39m)\n",
      "\u001b[0;31mNameError\u001b[0m: name 'Validation_accuracy' is not defined"
     ]
    },
    {
     "data": {
      "image/png": "[encoded data removed]",
      "text/plain": [
       "<Figure size 640x480 with 2 Axes>"
      ]
     },
     "metadata": {},
     "output_type": "display_data"
    }
   ],
   "source": [
    "import matplotlib.pyplot as plt\n",
    "import numpy as np\n",
    "\n",
    "plt.subplot(1,2,1)\n",
    "plt.plot(np.arange(epoch), train_loss, '-o', label=\"Train Loss\")\n",
    "plt.plot(np.arange(epoch), validation_loss, '--<', label=\"Validation Loss\")\n",
    "plt.xlabel(\"$Epoch$\")\n",
    "plt.ylabel(\"$Loss$\")\n",
    "\n",
    "plt.subplot(1,2,2)\n",
    "plt.plot(np.arange(epoch), train_accuracy, '-o', label=\"Train Accuracy\")\n",
    "plt.plot(np.arange(epoch), alidation_accuracy, '--<', label=\"Validation Accuracy\")\n",
    "plt.xlabel(\"$Epoch$\")\n",
    "plt.ylabel(\"$Accuracy$\")"
   ]
  },
  {
   "cell_type": "markdown",
   "id": "b4ee82f7",
   "metadata": {},
   "source": [
    "## Test data accuracy"
   ]
  },
  {
   "cell_type": "code",
   "execution_count": 14,
   "id": "7d6bfec5",
   "metadata": {},
   "outputs": [
    {
     "data": {
      "text/plain": [
       "10000"
      ]
     },
     "execution_count": 14,
     "metadata": {},
     "output_type": "execute_result"
    }
   ],
   "source": [
    "len(mnist_test_data)"
   ]
  },
  {
   "cell_type": "code",
   "execution_count": 23,
   "id": "7a8ad49f",
   "metadata": {},
   "outputs": [
    {
     "name": "stdout",
     "output_type": "stream",
     "text": [
      "Accuracy: 0.9924\n"
     ]
    }
   ],
   "source": [
    "data_test = DataLoader(mnist_test_data, 64, shuffle=True)\n",
    "\n",
    "total_crt = 0\n",
    "with torch.no_grad():\n",
    "    for x_batch, y_batch in data_test:\n",
    "        x_batch = x_batch.to(mps_device)\n",
    "        y_batch = y_batch.to(mps_device)\n",
    "        pred = model(x_batch)\n",
    "        loss = loss_fn(pred, y_batch)\n",
    "        soft_pred = torch.softmax(pred, axis=1)\n",
    "        is_crt = (torch.argmax(soft_pred, axis=1) == y_batch).float().sum()\n",
    "        total_crt += is_crt\n",
    "    print(f\"Accuracy: {total_crt/len(data_test.dataset):.4f}\")"
   ]
  },
  {
   "cell_type": "code",
   "execution_count": null,
   "id": "d60bc1b1",
   "metadata": {},
   "outputs": [],
   "source": []
  }
 ],
 "metadata": {
  "kernelspec": {
   "display_name": "Python 3.9 (pytorch)",
   "language": "python",
   "name": "pytorch"
  },
  "language_info": {
   "codemirror_mode": {
    "name": "ipython",
    "version": 3
   },
   "file_extension": ".py",
   "mimetype": "text/x-python",
   "name": "python",
   "nbconvert_exporter": "python",
   "pygments_lexer": "ipython3",
   "version": "3.9.15"
  }
 },
 "nbformat": 4,
 "nbformat_minor": 5
}
