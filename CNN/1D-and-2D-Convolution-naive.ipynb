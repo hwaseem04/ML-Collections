{
 "cells": [
  {
   "cell_type": "code",
   "execution_count": 1,
   "id": "0c4fbfc8",
   "metadata": {},
   "outputs": [],
   "source": [
    "import numpy as np\n",
    "import scipy.signal"
   ]
  },
  {
   "cell_type": "markdown",
   "id": "7f1c147a",
   "metadata": {},
   "source": [
    "## 1-D"
   ]
  },
  {
   "cell_type": "code",
   "execution_count": 2,
   "id": "5189404f",
   "metadata": {},
   "outputs": [],
   "source": [
    "# This is Not Cross correlation (which does not reverse the filter)\n",
    "def conv1D(x, w, p=0, s=1):\n",
    "    w = w[::-1]\n",
    "    if p>0:\n",
    "        x = np.append(np.zeros(p),x)\n",
    "        x = np.append(x,np.zeros(p))\n",
    "    \n",
    "    ydim = int(np.floor((len(x) - len(w))/s) + 1)\n",
    "\n",
    "    y = np.zeros(ydim)\n",
    "    i = 0    \n",
    "    while(i + len(w) <= len(x)):\n",
    "        y[i] = np.dot(x[i : i + len(w)],w)\n",
    "        i += s\n",
    "    return y\n",
    "    "
   ]
  },
  {
   "cell_type": "code",
   "execution_count": 3,
   "id": "3d1f7b50",
   "metadata": {},
   "outputs": [
    {
     "name": "stdout",
     "output_type": "stream",
     "text": [
      "[ 5. 14. 16. 26. 24. 34. 19. 22.]\n"
     ]
    }
   ],
   "source": [
    "x = np.array([1,3,2,4,5,6,1,3]) # n=8\n",
    "w = np.array([1,0,3,1,2]) # m=5 \n",
    "\n",
    "# output y size --> (n + 2p - m)/s + 1\n",
    "\n",
    "print(conv1D(x, w, p=2, s=1))\n"
   ]
  },
  {
   "cell_type": "code",
   "execution_count": 4,
   "id": "174840ef",
   "metadata": {},
   "outputs": [
    {
     "name": "stdout",
     "output_type": "stream",
     "text": [
      "In-bult function's result : [ 5 14 16 26 24 34 19 22]\n"
     ]
    }
   ],
   "source": [
    "print(f\"In-bult function's result : {np.convolve(x, w, mode='same')}\")"
   ]
  },
  {
   "cell_type": "markdown",
   "id": "3f3d1c70",
   "metadata": {},
   "source": [
    "## 2-D"
   ]
  },
  {
   "cell_type": "code",
   "execution_count": 5,
   "id": "9c019f32",
   "metadata": {},
   "outputs": [],
   "source": [
    "# This is Not Cross correlation (which does not reverse the filter)\n",
    "def conv2D(X, W, p=(0,0), s=(1,1)):\n",
    "    W = W[::-1, ::-1]\n",
    "    if (p[0] != 0):\n",
    "        X = np.concatenate([np.zeros((X.shape[0],p[0])), X, np.zeros((X.shape[0],p[0]))], axis=1)\n",
    "    if (p[1] != 0):\n",
    "        X = np.concatenate([np.zeros((p[1],X.shape[1])), X, np.zeros((p[1],X.shape[1]))], axis=0)\n",
    "    \n",
    "    ydimy = int(np.floor((X.shape[0] - W.shape[0])/s[0]) + 1)\n",
    "    ydimx = int(np.floor((X.shape[1] - W.shape[1])/s[1]) + 1)\n",
    "    Y = np.zeros((ydimx, ydimy))\n",
    "     \n",
    "    for i in range(0, ydimy, s[0]):\n",
    "        res = np.array([])\n",
    "        for j in range(0, ydimx, s[1]):\n",
    "            Y[int(i/s[0]) : int(i/s[0]) + W.shape[0], int(j/s[1]) : int(j/s[1]) + W.shape[1]] = np.sum(X[i : i + W.shape[0], j : j + W.shape[1]] * W )\n",
    "    return Y"
   ]
  },
  {
   "cell_type": "code",
   "execution_count": 6,
   "id": "e3fc4616",
   "metadata": {},
   "outputs": [
    {
     "name": "stdout",
     "output_type": "stream",
     "text": [
      "[[ 1.  3.  5. 13.  6. 12.]\n",
      " [ 6. 11. 25. 32. 13. 13.]\n",
      " [ 6. 19. 25. 24. 13. 13.]\n",
      " [ 4. 13. 28. 25. 17. 11.]\n",
      " [ 3. 11. 17. 14.  9.  4.]\n",
      " [ 0.  3.  7.  7.  5.  2.]]\n"
     ]
    }
   ],
   "source": [
    "X = np.array([[1, 3, 2, 4], [5, 6, 1, 3], [1, 2, 0, 2], [3, 4, 3, 2]]) \n",
    "W = np.array([[1, 0, 3], [1, 2, 1], [0, 1, 1]])\n",
    "\n",
    "print(conv2D(X, W, p=(2,2), s=(1,1)))"
   ]
  },
  {
   "cell_type": "code",
   "execution_count": 7,
   "id": "9c67c24e",
   "metadata": {},
   "outputs": [
    {
     "name": "stdout",
     "output_type": "stream",
     "text": [
      "SciPy results: \n",
      "[[ 1  3  5 13  6 12]\n",
      " [ 6 11 25 32 13 13]\n",
      " [ 6 19 25 24 13 13]\n",
      " [ 4 13 28 25 17 11]\n",
      " [ 3 11 17 14  9  4]\n",
      " [ 0  3  7  7  5  2]]\n"
     ]
    }
   ],
   "source": [
    "print(f\"SciPy results: \\n{scipy.signal.convolve2d(X,W,mode='full')}\")"
   ]
  }
 ],
 "metadata": {
  "kernelspec": {
   "display_name": "Python 3 (ipykernel)",
   "language": "python",
   "name": "python3"
  },
  "language_info": {
   "codemirror_mode": {
    "name": "ipython",
    "version": 3
   },
   "file_extension": ".py",
   "mimetype": "text/x-python",
   "name": "python",
   "nbconvert_exporter": "python",
   "pygments_lexer": "ipython3",
   "version": "3.9.15"
  }
 },
 "nbformat": 4,
 "nbformat_minor": 5
}
