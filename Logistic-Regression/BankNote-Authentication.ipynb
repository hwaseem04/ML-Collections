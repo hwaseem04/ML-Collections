{
 "cells": [
  {
   "cell_type": "code",
   "execution_count": 1,
   "id": "40245485",
   "metadata": {},
   "outputs": [],
   "source": [
    "import pandas as pd\n",
    "import torch\n",
    "import torch.nn as nn\n",
    "from torch.optim import SGD\n",
    "from torch.utils.data import DataLoader, random_split, Dataset"
   ]
  },
  {
   "cell_type": "markdown",
   "id": "0fdcbbea",
   "metadata": {},
   "source": [
    "#### What new? (Personal reference)\n",
    "- usage of np.bincount()\n",
    "- custom Dataset generation with feature-label mapping\n",
    "- usage of Glorot initialisation\n",
    "- usage of torch.where\n",
    "- While normalisation, we have to use params of train set to valid and test set ?\n",
    "    - We have to use params of train set"
   ]
  },
  {
   "cell_type": "markdown",
   "id": "70448e39",
   "metadata": {},
   "source": [
    "## Data loading"
   ]
  },
  {
   "cell_type": "code",
   "execution_count": 2,
   "id": "a84f277e",
   "metadata": {},
   "outputs": [
    {
     "data": {
      "text/html": [
       "<div>\n",
       "<style scoped>\n",
       "    .dataframe tbody tr th:only-of-type {\n",
       "        vertical-align: middle;\n",
       "    }\n",
       "\n",
       "    .dataframe tbody tr th {\n",
       "        vertical-align: top;\n",
       "    }\n",
       "\n",
       "    .dataframe thead th {\n",
       "        text-align: right;\n",
       "    }\n",
       "</style>\n",
       "<table border=\"1\" class=\"dataframe\">\n",
       "  <thead>\n",
       "    <tr style=\"text-align: right;\">\n",
       "      <th></th>\n",
       "      <th>variance</th>\n",
       "      <th>skewness</th>\n",
       "      <th>curtosis</th>\n",
       "      <th>entropy of image</th>\n",
       "      <th>class</th>\n",
       "    </tr>\n",
       "  </thead>\n",
       "  <tbody>\n",
       "    <tr>\n",
       "      <th>0</th>\n",
       "      <td>3.62160</td>\n",
       "      <td>8.6661</td>\n",
       "      <td>-2.8073</td>\n",
       "      <td>-0.44699</td>\n",
       "      <td>0</td>\n",
       "    </tr>\n",
       "    <tr>\n",
       "      <th>1</th>\n",
       "      <td>4.54590</td>\n",
       "      <td>8.1674</td>\n",
       "      <td>-2.4586</td>\n",
       "      <td>-1.46210</td>\n",
       "      <td>0</td>\n",
       "    </tr>\n",
       "    <tr>\n",
       "      <th>2</th>\n",
       "      <td>3.86600</td>\n",
       "      <td>-2.6383</td>\n",
       "      <td>1.9242</td>\n",
       "      <td>0.10645</td>\n",
       "      <td>0</td>\n",
       "    </tr>\n",
       "    <tr>\n",
       "      <th>3</th>\n",
       "      <td>3.45660</td>\n",
       "      <td>9.5228</td>\n",
       "      <td>-4.0112</td>\n",
       "      <td>-3.59440</td>\n",
       "      <td>0</td>\n",
       "    </tr>\n",
       "    <tr>\n",
       "      <th>4</th>\n",
       "      <td>0.32924</td>\n",
       "      <td>-4.4552</td>\n",
       "      <td>4.5718</td>\n",
       "      <td>-0.98880</td>\n",
       "      <td>0</td>\n",
       "    </tr>\n",
       "  </tbody>\n",
       "</table>\n",
       "</div>"
      ],
      "text/plain": [
       "   variance  skewness  curtosis  entropy of image  class\n",
       "0   3.62160    8.6661   -2.8073          -0.44699      0\n",
       "1   4.54590    8.1674   -2.4586          -1.46210      0\n",
       "2   3.86600   -2.6383    1.9242           0.10645      0\n",
       "3   3.45660    9.5228   -4.0112          -3.59440      0\n",
       "4   0.32924   -4.4552    4.5718          -0.98880      0"
      ]
     },
     "execution_count": 2,
     "metadata": {},
     "output_type": "execute_result"
    }
   ],
   "source": [
    "data = pd.read_csv(\"data_banknote_authentication.txt\",names=['variance', 'skewness', 'curtosis','entropy of image', 'class'])\n",
    "data.head()"
   ]
  },
  {
   "cell_type": "code",
   "execution_count": 3,
   "id": "6505dc82",
   "metadata": {},
   "outputs": [
    {
     "name": "stdout",
     "output_type": "stream",
     "text": [
      "<class 'pandas.core.frame.DataFrame'>\n",
      "RangeIndex: 1372 entries, 0 to 1371\n",
      "Data columns (total 5 columns):\n",
      " #   Column            Non-Null Count  Dtype  \n",
      "---  ------            --------------  -----  \n",
      " 0   variance          1372 non-null   float64\n",
      " 1   skewness          1372 non-null   float64\n",
      " 2   curtosis          1372 non-null   float64\n",
      " 3   entropy of image  1372 non-null   float64\n",
      " 4   class             1372 non-null   int64  \n",
      "dtypes: float64(4), int64(1)\n",
      "memory usage: 53.7 KB\n"
     ]
    }
   ],
   "source": [
    "data.info()"
   ]
  },
  {
   "cell_type": "markdown",
   "id": "34451c4b",
   "metadata": {},
   "source": [
    "#### Equally distributed - no imbalance\n",
    "- If imbalance is present\n",
    "    - Select different threshold on basis of precision and recall\n",
    "    - Upsample/downsample using imbalance-learn library"
   ]
  },
  {
   "cell_type": "code",
   "execution_count": 4,
   "id": "b79a483b",
   "metadata": {},
   "outputs": [
    {
     "data": {
      "text/plain": [
       "array([762, 610])"
      ]
     },
     "execution_count": 4,
     "metadata": {},
     "output_type": "execute_result"
    }
   ],
   "source": [
    "import numpy as np\n",
    "np.bincount(data['class']) "
   ]
  },
  {
   "cell_type": "markdown",
   "id": "5f9609cb",
   "metadata": {},
   "source": [
    "## Defining Dataset"
   ]
  },
  {
   "cell_type": "code",
   "execution_count": 5,
   "id": "573acc97",
   "metadata": {},
   "outputs": [],
   "source": [
    "class MyData(Dataset):\n",
    "    def __init__(self, X, y):\n",
    "        self.X = X\n",
    "        self.y = y\n",
    "    def __getitem__(self, index):\n",
    "        x = self.X[index]\n",
    "        y = self.y[index]\n",
    "        return x,y\n",
    "    def __len__(self):\n",
    "        return len(self.X)"
   ]
  },
  {
   "cell_type": "markdown",
   "id": "05e3ac6e",
   "metadata": {},
   "source": [
    "## Splitting"
   ]
  },
  {
   "cell_type": "code",
   "execution_count": 6,
   "id": "1433f789",
   "metadata": {},
   "outputs": [],
   "source": [
    "X = data.iloc[:, :-1].values\n",
    "y = data[['class']].values"
   ]
  },
  {
   "cell_type": "code",
   "execution_count": 7,
   "id": "f64e529e",
   "metadata": {},
   "outputs": [
    {
     "data": {
      "text/plain": [
       "((1372, 4), (1372, 1))"
      ]
     },
     "execution_count": 7,
     "metadata": {},
     "output_type": "execute_result"
    }
   ],
   "source": [
    "X.shape, y.shape"
   ]
  },
  {
   "cell_type": "code",
   "execution_count": 8,
   "id": "87de060d",
   "metadata": {},
   "outputs": [],
   "source": [
    "dataset = MyData(X,y)"
   ]
  },
  {
   "cell_type": "code",
   "execution_count": 9,
   "id": "ad3febe8",
   "metadata": {},
   "outputs": [],
   "source": [
    "torch.manual_seed(1)\n",
    "train_size = int(len(dataset) * 0.8)\n",
    "validation_size = len(dataset) - train_size\n",
    "train, validation = random_split(dataset, [train_size, validation_size])"
   ]
  },
  {
   "cell_type": "markdown",
   "id": "df4557e1",
   "metadata": {},
   "source": [
    "## Standardisation"
   ]
  },
  {
   "cell_type": "code",
   "execution_count": 10,
   "id": "1030bcca",
   "metadata": {},
   "outputs": [
    {
     "data": {
      "text/plain": [
       "(array([ 3.4092 ,  5.4049 , -2.5228 , -0.89958]), array([0]))"
      ]
     },
     "execution_count": 10,
     "metadata": {},
     "output_type": "execute_result"
    }
   ],
   "source": [
    "train[0]"
   ]
  },
  {
   "cell_type": "markdown",
   "id": "1c023ecf",
   "metadata": {},
   "source": [
    "## DataLoader initializing"
   ]
  },
  {
   "cell_type": "code",
   "execution_count": 11,
   "id": "d3a23839",
   "metadata": {},
   "outputs": [],
   "source": [
    "batch_size = 32\n",
    "train_loader = DataLoader(train, batch_size, shuffle=True)\n",
    "valid_loader = DataLoader(validation, batch_size)"
   ]
  },
  {
   "cell_type": "markdown",
   "id": "d5b25033",
   "metadata": {},
   "source": [
    "## Preprocessing\n",
    "- Obtain mean, std of train data for each feature. Use the same parameters to standardise validation data"
   ]
  },
  {
   "cell_type": "code",
   "execution_count": 12,
   "id": "442ad322",
   "metadata": {},
   "outputs": [],
   "source": [
    "train_mean = torch.zeros(X.shape[1])\n",
    "train_std = torch.zeros(X.shape[1])\n",
    "for x_batch , _ in train_loader:\n",
    "    train_mean += torch.sum(x_batch, axis=0)\n",
    "train_mean = train_mean/len(train_loader.dataset)\n",
    "\n",
    "for x_batch, _ in train_loader:\n",
    "    train_std += torch.sum((x_batch - train_mean)**2, axis=0)\n",
    "train_std = torch.sqrt(train_std/(len(train_loader.dataset)-1)) #  n-1 is used for sample parameter calculation, or else nan coming"
   ]
  },
  {
   "cell_type": "code",
   "execution_count": 13,
   "id": "a7b595b7",
   "metadata": {},
   "outputs": [
    {
     "data": {
      "text/plain": [
       "(tensor([ 0.3854,  1.8680,  1.4923, -1.1999]),\n",
       " tensor([2.8575, 5.9216, 4.3869, 2.1041]))"
      ]
     },
     "execution_count": 13,
     "metadata": {},
     "output_type": "execute_result"
    }
   ],
   "source": [
    "train_mean,train_std"
   ]
  },
  {
   "cell_type": "markdown",
   "id": "2e773e95",
   "metadata": {},
   "source": [
    "## Standardisation"
   ]
  },
  {
   "cell_type": "code",
   "execution_count": 14,
   "id": "c1add2fb",
   "metadata": {},
   "outputs": [],
   "source": [
    "def standardise(data, mean, std):\n",
    "    #print(((data - mean)/std).shape)\n",
    "    return (data - mean)/std"
   ]
  },
  {
   "cell_type": "markdown",
   "id": "868879ce",
   "metadata": {},
   "source": [
    "## Model"
   ]
  },
  {
   "cell_type": "code",
   "execution_count": 15,
   "id": "137a9a85",
   "metadata": {},
   "outputs": [],
   "source": [
    "class Model(nn.Module):\n",
    "    def __init__(self, n):\n",
    "        super().__init__()\n",
    "        self.w =  nn.Parameter(torch.zeros(n,1)) ## Cant have xavier transform for 1D\n",
    "        nn.init.xavier_uniform_(self.w)\n",
    "        self.b = nn.Parameter(torch.rand(1))\n",
    "        #self.linear = nn.Linear(n,1)\n",
    "    def forward(self, X):\n",
    "        X = X @ self.w + self.b \n",
    "        X = torch.sigmoid(X)\n",
    "        return X"
   ]
  },
  {
   "cell_type": "code",
   "execution_count": 16,
   "id": "df8e50fb",
   "metadata": {},
   "outputs": [],
   "source": [
    "torch.manual_seed(1)\n",
    "model = Model(4)"
   ]
  },
  {
   "cell_type": "code",
   "execution_count": 17,
   "id": "e5db1d29",
   "metadata": {},
   "outputs": [],
   "source": [
    "loss_fn = nn.BCELoss()\n",
    "optimizer = SGD(model.parameters(), lr=0.4)"
   ]
  },
  {
   "cell_type": "code",
   "execution_count": 18,
   "id": "2c750eaa",
   "metadata": {},
   "outputs": [
    {
     "name": "stdout",
     "output_type": "stream",
     "text": [
      "Epoch: 1, loss: 0.38482449010163955, Accuracy: 0.8532360792160034\n",
      "Epoch: 2, loss: 0.18887637374937916, Accuracy: 0.9608021974563599\n",
      "Epoch: 3, loss: 0.1433228964602393, Accuracy: 0.9680948257446289\n",
      "Epoch: 4, loss: 0.11925510133029986, Accuracy: 0.9717411398887634\n",
      "Epoch: 5, loss: 0.10450479379407689, Accuracy: 0.9726526737213135\n",
      "Epoch: 6, loss: 0.094118468735092, Accuracy: 0.9744758605957031\n",
      "Epoch: 7, loss: 0.08682195998307185, Accuracy: 0.976298987865448\n",
      "Epoch: 8, loss: 0.0809650673525053, Accuracy: 0.9772105813026428\n",
      "Epoch: 9, loss: 0.07643201808320357, Accuracy: 0.9781221747398376\n",
      "Epoch: 10, loss: 0.07270602289665365, Accuracy: 0.9781221747398376\n",
      "Epoch: 11, loss: 0.06960979984256498, Accuracy: 0.9799453020095825\n",
      "Epoch: 12, loss: 0.06689947895169149, Accuracy: 0.9799453020095825\n",
      "Epoch: 13, loss: 0.0645481215699923, Accuracy: 0.9799453020095825\n",
      "Epoch: 14, loss: 0.06259475500342404, Accuracy: 0.9799453020095825\n",
      "Epoch: 15, loss: 0.06080795110032682, Accuracy: 0.9799453020095825\n",
      "Epoch: 16, loss: 0.059173905425649834, Accuracy: 0.9799453020095825\n",
      "Epoch: 17, loss: 0.05791306659178562, Accuracy: 0.9808568954467773\n",
      "Epoch: 18, loss: 0.05652393518846037, Accuracy: 0.9808568954467773\n",
      "Epoch: 19, loss: 0.05534770702068764, Accuracy: 0.9808568954467773\n",
      "Epoch: 20, loss: 0.05443798320719407, Accuracy: 0.9808568954467773\n"
     ]
    }
   ],
   "source": [
    "epoch = 20\n",
    "train_loss = [0] * epoch\n",
    "train_accuracy = [0] * epoch\n",
    "\n",
    "validation_loss = [0] * epoch\n",
    "validation_accuracy = [0] * epoch\n",
    "for i in range(epoch):\n",
    "    for x_batch, y_batch in train_loader:\n",
    "        x_batch = x_batch.to(torch.float32)\n",
    "        y_batch = y_batch.to(torch.float32)\n",
    "        pred = model(standardise(x_batch, train_mean, train_std)) # Unusually here, higher accuracy is gained quickly when it is not standardised\n",
    "        #pred = model(x_batch)\n",
    "        loss = loss_fn(pred, y_batch)\n",
    "        loss.backward()\n",
    "        optimizer.step()\n",
    "        optimizer.zero_grad()\n",
    "        train_loss[i] += loss.item() * x_batch.size(0)\n",
    "        is_crt = (torch.where(pred>=0.5, 1,0) == y_batch).float().sum()\n",
    "        train_accuracy[i] += is_crt\n",
    "        \n",
    "    with torch.no_grad():\n",
    "        for x_batch, y_batch in valid_loader:\n",
    "            x_batch = x_batch.to(torch.float32)\n",
    "            y_batch = y_batch.to(torch.float32)\n",
    "            pred = model(standardise(x_batch, train_mean, train_std))\n",
    "            #pred = model(x_batch)\n",
    "            loss = loss_fn(pred, y_batch)\n",
    "            validation_loss[i] += loss.item() * x_batch.size(0)\n",
    "            is_crt = (torch.where(pred >= 0.5, 1,0)==y_batch).float().sum()\n",
    "            validation_accuracy[i] += is_crt\n",
    "    train_loss[i] /= len(train_loader.dataset)\n",
    "    train_accuracy[i] /= len(train_loader.dataset)\n",
    "    \n",
    "    validation_loss[i] /= len(valid_loader.dataset)\n",
    "    validation_accuracy[i] /= len(valid_loader.dataset)\n",
    "    \n",
    "    print(f\"Epoch: {i+1}, loss: {train_loss[i]}, Accuracy: {train_accuracy[i]}\")"
   ]
  },
  {
   "cell_type": "markdown",
   "id": "fd89eb6f",
   "metadata": {},
   "source": [
    "\n",
    "## Visualisation"
   ]
  },
  {
   "cell_type": "code",
   "execution_count": 19,
   "id": "7b3e4168",
   "metadata": {},
   "outputs": [],
   "source": [
    "import matplotlib.pyplot as plt"
   ]
  },
  {
   "cell_type": "code",
   "execution_count": 20,
   "id": "0eabc105",
   "metadata": {},
   "outputs": [
    {
     "data": {
      "text/plain": [
       "<matplotlib.legend.Legend at 0x140932e50>"
      ]
     },
     "execution_count": 20,
     "metadata": {},
     "output_type": "execute_result"
    },
    {
     "data": {
      "image/png": "[encoded data removed]",
      "text/plain": [
       "<Figure size 1200x500 with 2 Axes>"
      ]
     },
     "metadata": {},
     "output_type": "display_data"
    }
   ],
   "source": [
    "plt.figure(figsize=(12,5))\n",
    "plt.subplot(1,2,1)\n",
    "plt.plot(np.arange(epoch), train_loss, '-o')\n",
    "plt.plot(np.arange(epoch), validation_loss, '--<')\n",
    "plt.xlabel(\"$Epoch$\")\n",
    "plt.title(\"$Loss$\")\n",
    "plt.legend(['train loss', 'validation loss'])\n",
    "\n",
    "plt.subplot(1,2,2)\n",
    "plt.plot(np.arange(epoch), train_accuracy, '-o')\n",
    "plt.plot(np.arange(epoch), validation_accuracy, '--<')\n",
    "plt.xlabel(\"$Epoch$\")\n",
    "plt.title(\"$Accuracy$\")\n",
    "plt.legend(['train accuracy', 'validation accuracy'])"
   ]
  },
  {
   "cell_type": "markdown",
   "id": "80e9430d",
   "metadata": {},
   "source": [
    "## Observation\n",
    "- Unusually when I didn't standardise the value, higher accuracy is achieved quickly\n",
    "- But that accuracy/loss graph was not stable. But when I had standardised the values, I have got a steady graph as above"
   ]
  },
  {
   "cell_type": "code",
   "execution_count": null,
   "id": "58f78af2",
   "metadata": {},
   "outputs": [],
   "source": []
  }
 ],
 "metadata": {
  "kernelspec": {
   "display_name": "Python 3.9 (pytorch)",
   "language": "python",
   "name": "pytorch"
  },
  "language_info": {
   "codemirror_mode": {
    "name": "ipython",
    "version": 3
   },
   "file_extension": ".py",
   "mimetype": "text/x-python",
   "name": "python",
   "nbconvert_exporter": "python",
   "pygments_lexer": "ipython3",
   "version": "3.9.15"
  }
 },
 "nbformat": 4,
 "nbformat_minor": 5
}
