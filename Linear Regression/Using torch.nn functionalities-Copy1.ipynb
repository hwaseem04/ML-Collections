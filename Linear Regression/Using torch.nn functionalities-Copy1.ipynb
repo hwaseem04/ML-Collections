{
 "cells": [
  {
   "cell_type": "code",
   "execution_count": 1,
   "id": "f3eb46f0",
   "metadata": {},
   "outputs": [],
   "source": [
    "import torch\n",
    "import torch.nn as nn\n",
    "from torch.optim import SGD\n",
    "from torch.utils.data import DataLoader, TensorDataset"
   ]
  },
  {
   "cell_type": "markdown",
   "id": "e7a04ca9",
   "metadata": {},
   "source": [
    "# Toy data"
   ]
  },
  {
   "cell_type": "code",
   "execution_count": 2,
   "id": "43f5c9bd",
   "metadata": {},
   "outputs": [],
   "source": [
    "Train_X = torch.arange(10).to(torch.float32).reshape(10,1)\n",
    "Train_X_Norm = (Train_X - Train_X.mean())/ Train_X.std()\n",
    "\n",
    "Train_Y = torch.tensor([1.0, 1.3, 3.1, 2.0, 5.0, 6.3, 6.6, 7.4, 8.0, 9.0]).reshape(10,1)"
   ]
  },
  {
   "cell_type": "code",
   "execution_count": 3,
   "id": "1bbdeeba",
   "metadata": {},
   "outputs": [],
   "source": [
    "toy_data = TensorDataset(Train_X_Norm, Train_Y)\n",
    "data = DataLoader(toy_data, batch_size=1)"
   ]
  },
  {
   "cell_type": "markdown",
   "id": "bbad437b",
   "metadata": {},
   "source": [
    "# Loss function, model and optimizer function"
   ]
  },
  {
   "cell_type": "code",
   "execution_count": 4,
   "id": "720f0486",
   "metadata": {},
   "outputs": [],
   "source": [
    "loss_func = nn.MSELoss(reduction='mean')\n",
    "input_size = 1\n",
    "output_size = 1\n",
    "model = nn.Linear(input_size, output_size)\n",
    "optimizer = SGD(model.parameters(), lr=0.001)"
   ]
  },
  {
   "cell_type": "markdown",
   "id": "45458502",
   "metadata": {},
   "source": [
    "# Training"
   ]
  },
  {
   "cell_type": "code",
   "execution_count": 5,
   "id": "7bd4bdad",
   "metadata": {},
   "outputs": [
    {
     "name": "stdout",
     "output_type": "stream",
     "text": [
      "Epoch: 1, Error: 91.33182525634766\n",
      "Epoch: 11, Error: 61.996639251708984\n",
      "Epoch: 21, Error: 42.009132385253906\n",
      "Epoch: 31, Error: 28.402732849121094\n",
      "Epoch: 41, Error: 19.150672912597656\n",
      "Epoch: 51, Error: 12.868422508239746\n",
      "Epoch: 61, Error: 8.610376358032227\n",
      "Epoch: 71, Error: 5.730823040008545\n",
      "Epoch: 81, Error: 3.789041519165039\n",
      "Epoch: 91, Error: 2.4843387603759766\n",
      "Epoch: 101, Error: 1.611708402633667\n",
      "Epoch: 111, Error: 1.0314786434173584\n",
      "Epoch: 121, Error: 0.6485783457756042\n",
      "Epoch: 131, Error: 0.3984096348285675\n",
      "Epoch: 141, Error: 0.2371230125427246\n",
      "Epoch: 151, Error: 0.13503193855285645\n",
      "Epoch: 161, Error: 0.07208167016506195\n",
      "Epoch: 171, Error: 0.03477107360959053\n",
      "Epoch: 181, Error: 0.014046712778508663\n",
      "Epoch: 191, Error: 0.0038700944278389215\n"
     ]
    }
   ],
   "source": [
    "epoch = 200\n",
    "for i in range(epoch):\n",
    "    for x, y in data:\n",
    "        pred = model(x)\n",
    "        #print(pred.shape, y.shape)\n",
    "        loss = loss_func(pred, y)\n",
    "        loss.backward()\n",
    "        \n",
    "        #Update paramters\n",
    "        optimizer.step()\n",
    "        optimizer.zero_grad()\n",
    "    if i % 10 == 0:\n",
    "        print(f\"Epoch: {i+1}, Error: {loss}\")"
   ]
  },
  {
   "cell_type": "code",
   "execution_count": null,
   "id": "5a58fab4",
   "metadata": {},
   "outputs": [],
   "source": []
  }
 ],
 "metadata": {
  "kernelspec": {
   "display_name": "Python 3.9 (pytorch)",
   "language": "python",
   "name": "pytorch"
  },
  "language_info": {
   "codemirror_mode": {
    "name": "ipython",
    "version": 3
   },
   "file_extension": ".py",
   "mimetype": "text/x-python",
   "name": "python",
   "nbconvert_exporter": "python",
   "pygments_lexer": "ipython3",
   "version": "3.9.15"
  }
 },
 "nbformat": 4,
 "nbformat_minor": 5
}
